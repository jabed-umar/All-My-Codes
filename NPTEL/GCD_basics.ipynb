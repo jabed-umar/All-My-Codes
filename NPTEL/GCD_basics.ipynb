{
 "cells": [
  {
   "cell_type": "markdown",
   "metadata": {},
   "source": [
    "# Finding GCD of two numbers"
   ]
  },
  {
   "cell_type": "code",
   "execution_count": 4,
   "metadata": {},
   "outputs": [
    {
     "name": "stdout",
     "output_type": "stream",
     "text": [
      "7\n"
     ]
    }
   ],
   "source": [
    "def gcd(m,n):    # m and n are positive integers\n",
    "    fm =[]  #defining empty list to store factors of m\n",
    "    for i in range(1,m+1):  #finding factors of m\n",
    "        if m % i == 0:\n",
    "            fm.append(i)\n",
    "    fn = []  #defining empty list to store factors of n\n",
    "    for j in range(1,n+1):  #finding factors of n\n",
    "        if n % j == 0:\n",
    "            fn.append(j)\n",
    "    f = []      #defining empty list to store factors of m and n\n",
    "    for k in fm:\n",
    "        if k in fn:   #finding common factors of m and n\n",
    "            f.append(k)\n",
    "    return max(f)   #returning the largest factor of m and n\n",
    "print(gcd(14,21))          \n"
   ]
  },
  {
   "cell_type": "markdown",
   "metadata": {},
   "source": [
    "# Imporving GCD algorithm"
   ]
  },
  {
   "cell_type": "code",
   "execution_count": 5,
   "metadata": {},
   "outputs": [
    {
     "name": "stdout",
     "output_type": "stream",
     "text": [
      "7\n"
     ]
    }
   ],
   "source": [
    "def GCD(m,n):\n",
    "    f = []\n",
    "    for i in range(1,min(m,n)+1):\n",
    "        if m % i == 0 and n % i == 0:\n",
    "            f.append(i)\n",
    "    return max(f)\n",
    "print(gcd(14,21))          \n"
   ]
  },
  {
   "cell_type": "markdown",
   "metadata": {},
   "source": [
    "# GCD without lists "
   ]
  },
  {
   "cell_type": "code",
   "execution_count": 7,
   "metadata": {},
   "outputs": [
    {
     "name": "stdout",
     "output_type": "stream",
     "text": [
      "7\n",
      "7\n"
     ]
    }
   ],
   "source": [
    "# method 1\n",
    "def gcd(m,n):\n",
    "    for i in range(1,min(m,n)+1):\n",
    "        if m % i == 0 and n % i == 0:\n",
    "            mrcf = i   #mrcf = most recent common factor\n",
    "    return mrcf\n",
    "print(gcd(14,21))  "
   ]
  },
  {
   "cell_type": "code",
   "execution_count": 8,
   "metadata": {},
   "outputs": [
    {
     "name": "stdout",
     "output_type": "stream",
     "text": [
      "7\n"
     ]
    }
   ],
   "source": [
    "# method 2\n",
    "def gcd(m,n):\n",
    "    i = min(m,n)\n",
    "    while i > 0 :\n",
    "        if m % i == 0 and n % i == 0:\n",
    "            return(i)\n",
    "        else :\n",
    "            i  = i - 1\n",
    "print(gcd(14,21))  "
   ]
  },
  {
   "cell_type": "markdown",
   "metadata": {},
   "source": [
    "# Euclid algorithm to calculate GCD of two numbers "
   ]
  },
  {
   "cell_type": "code",
   "execution_count": 4,
   "metadata": {},
   "outputs": [
    {
     "name": "stdout",
     "output_type": "stream",
     "text": [
      "7\n"
     ]
    }
   ],
   "source": [
    "def gcd(m,n):\n",
    "    if m < n: # assuming m > n\n",
    "        (m,n)  = (n,m)\n",
    "    if m % n == 0:\n",
    "        return n\n",
    "    else :\n",
    "        d = m - n\n",
    "    return gcd(min(n,d),max(n,d))\n",
    "print(gcd(14,21))  \n"
   ]
  }
 ],
 "metadata": {
  "kernelspec": {
   "display_name": "Python 3.9.13 64-bit",
   "language": "python",
   "name": "python3"
  },
  "language_info": {
   "codemirror_mode": {
    "name": "ipython",
    "version": 3
   },
   "file_extension": ".py",
   "mimetype": "text/x-python",
   "name": "python",
   "nbconvert_exporter": "python",
   "pygments_lexer": "ipython3",
   "version": "3.9.13"
  },
  "orig_nbformat": 4,
  "vscode": {
   "interpreter": {
    "hash": "8e284ee3255a07ad8bf76694974743c4c81cb57e7c969474d752d949b11d721e"
   }
  }
 },
 "nbformat": 4,
 "nbformat_minor": 2
}
