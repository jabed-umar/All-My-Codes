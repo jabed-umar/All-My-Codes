{
 "cells": [
  {
   "cell_type": "markdown",
   "metadata": {},
   "source": [
    "# Binary Search"
   ]
  },
  {
   "cell_type": "code",
   "execution_count": 40,
   "metadata": {},
   "outputs": [],
   "source": [
    "# binary search \n",
    "#search for v in seq[l:r], seq is sorted\n",
    "def binary_search(seq,v,l,r):\n",
    "    if r-l == 0: # slice is empty\n",
    "        return False\n",
    "    m=(l+r)//2  #integer division\n",
    "    if seq[m] == v:\n",
    "        # m is the index number\n",
    "        return m   # v is in the middle of seq\n",
    "    elif seq[m]>v:\n",
    "        return binary_search(seq,v,l,m) # search in left half\n",
    "    else:\n",
    "        return binary_search(seq,v,m+1,r) # search in right half"
   ]
  },
  {
   "cell_type": "code",
   "execution_count": 41,
   "metadata": {},
   "outputs": [
    {
     "name": "stdout",
     "output_type": "stream",
     "text": [
      "4\n",
      "4\n",
      "False\n"
     ]
    }
   ],
   "source": [
    "# function input \n",
    "print(binary_search([1,2,3,4,5,6,7,8,9,10],5,0,10))\n",
    "print(binary_search([1,2,3,4,5,6,7,8,9,],5,0,9)) # for odd list integer division is useful \n",
    "print(binary_search([1,2,3,4,5,6,7,8,9,10],11,0,9)) # empty slice\n"
   ]
  },
  {
   "cell_type": "markdown",
   "metadata": {},
   "source": [
    "# Selection Sort"
   ]
  },
  {
   "cell_type": "code",
   "execution_count": 42,
   "metadata": {},
   "outputs": [],
   "source": [
    "# selection sort \n",
    "# sorting a list of numbers, repeated numbers are allowed\n",
    "def selection_sort(seq):\n",
    "    for i in range(len(seq)):\n",
    "        # find the smallest item in seq[i:]\n",
    "        # and swap it with seq[i]\n",
    "        min_index = i\n",
    "        for j in range(i+1,len(seq)):\n",
    "            if seq[j] < seq[min_index]:\n",
    "                min_index = j\n",
    "        seq[i],seq[min_index] = seq[min_index],seq[i]\n",
    "    return seq"
   ]
  },
  {
   "cell_type": "code",
   "execution_count": 43,
   "metadata": {},
   "outputs": [
    {
     "data": {
      "text/plain": [
       "[1, 2, 3, 3, 3, 5, 6, 7, 8, 10]"
      ]
     },
     "execution_count": 43,
     "metadata": {},
     "output_type": "execute_result"
    }
   ],
   "source": [
    "# function input \n",
    "selection_sort([1,10,3,3,6,5,7,8,3,2])"
   ]
  },
  {
   "cell_type": "markdown",
   "metadata": {},
   "source": [
    "# Insertion Sort"
   ]
  },
  {
   "cell_type": "code",
   "execution_count": 44,
   "metadata": {},
   "outputs": [],
   "source": [
    "# insertion sort\n",
    "def insertion_sort(seq):\n",
    "    for i in range(len(seq)):\n",
    "        # insert seq[i] into the right place in seq[0:i]\n",
    "        # by swapping it with its predecessors\n",
    "        while i > 0 and seq[i] < seq[i-1]:\n",
    "            seq[i],seq[i-1] = seq[i-1],seq[i]\n",
    "            i-=1\n",
    "    return seq"
   ]
  },
  {
   "cell_type": "code",
   "execution_count": 45,
   "metadata": {},
   "outputs": [
    {
     "data": {
      "text/plain": [
       "[2, 3, 3, 3, 5, 6, 7, 8, 9, 10]"
      ]
     },
     "execution_count": 45,
     "metadata": {},
     "output_type": "execute_result"
    }
   ],
   "source": [
    "# function input\n",
    "insertion_sort([9,10,3,3,6,5,7,8,3,2])"
   ]
  },
  {
   "cell_type": "markdown",
   "metadata": {},
   "source": [
    "# Recurrance"
   ]
  },
  {
   "cell_type": "code",
   "execution_count": 46,
   "metadata": {},
   "outputs": [],
   "source": [
    "# 1. factorial of any number \n",
    "def factorial(n):\n",
    "    if n == 0:\n",
    "        return 1\n",
    "    else:\n",
    "        return n*factorial(n-1)"
   ]
  },
  {
   "cell_type": "code",
   "execution_count": 47,
   "metadata": {},
   "outputs": [
    {
     "data": {
      "text/plain": [
       "3628800"
      ]
     },
     "execution_count": 47,
     "metadata": {},
     "output_type": "execute_result"
    }
   ],
   "source": [
    "factorial(10)"
   ]
  },
  {
   "cell_type": "code",
   "execution_count": 48,
   "metadata": {},
   "outputs": [],
   "source": [
    "# 2. fibonacci sequence\n",
    "def fibonacci(n):\n",
    "    if n == 0:\n",
    "        return 0\n",
    "    elif n == 1:\n",
    "        return 1\n",
    "    else:\n",
    "        return fibonacci(n-1)+fibonacci(n-2)"
   ]
  },
  {
   "cell_type": "code",
   "execution_count": 49,
   "metadata": {},
   "outputs": [
    {
     "data": {
      "text/plain": [
       "55"
      ]
     },
     "execution_count": 49,
     "metadata": {},
     "output_type": "execute_result"
    }
   ],
   "source": [
    "fibonacci(10)"
   ]
  },
  {
   "cell_type": "code",
   "execution_count": 50,
   "metadata": {},
   "outputs": [],
   "source": [
    "# multiplication of two numbers\n",
    "def multiplication(a,b):\n",
    "    if b == 1:\n",
    "        return a\n",
    "    else:\n",
    "        return a+multiplication(a,b-1)"
   ]
  },
  {
   "cell_type": "code",
   "execution_count": 51,
   "metadata": {},
   "outputs": [
    {
     "data": {
      "text/plain": [
       "100"
      ]
     },
     "execution_count": 51,
     "metadata": {},
     "output_type": "execute_result"
    }
   ],
   "source": [
    "multiplication(10,10)"
   ]
  },
  {
   "cell_type": "code",
   "execution_count": 52,
   "metadata": {},
   "outputs": [],
   "source": [
    "# length of a list\n",
    "def length(seq):\n",
    "    if seq == []:\n",
    "        return 0\n",
    "    else:\n",
    "        return 1+length(seq[1:])"
   ]
  },
  {
   "cell_type": "code",
   "execution_count": 53,
   "metadata": {},
   "outputs": [
    {
     "data": {
      "text/plain": [
       "10"
      ]
     },
     "execution_count": 53,
     "metadata": {},
     "output_type": "execute_result"
    }
   ],
   "source": [
    "length([1,2,3,4,5,6,7,8,9,10])"
   ]
  },
  {
   "cell_type": "code",
   "execution_count": 54,
   "metadata": {},
   "outputs": [],
   "source": [
    "# sum of a list of number \n",
    "def sum(seq):\n",
    "    if seq == []:\n",
    "        return 0\n",
    "    else:\n",
    "        return seq[0]+sum(seq[1:])"
   ]
  },
  {
   "cell_type": "code",
   "execution_count": 55,
   "metadata": {},
   "outputs": [
    {
     "data": {
      "text/plain": [
       "55"
      ]
     },
     "execution_count": 55,
     "metadata": {},
     "output_type": "execute_result"
    }
   ],
   "source": [
    "sum([1,2,3,4,5,6,7,8,9,10])"
   ]
  },
  {
   "cell_type": "code",
   "execution_count": 56,
   "metadata": {},
   "outputs": [],
   "source": [
    "# recursive insertion sort\n",
    "def recursive_insertion_sort(seq):\n",
    "    if len(seq) == 1:\n",
    "        return seq\n",
    "    else:\n",
    "        return recursive_insertion_sort(seq[1:])+[seq[0]]\n",
    "    "
   ]
  },
  {
   "cell_type": "code",
   "execution_count": 57,
   "metadata": {},
   "outputs": [
    {
     "data": {
      "text/plain": [
       "[2, 3, 8, 7, 5, 6, 3, 3, 10, 9]"
      ]
     },
     "execution_count": 57,
     "metadata": {},
     "output_type": "execute_result"
    }
   ],
   "source": [
    "recursive_insertion_sort([9,10,3,3,6,5,7,8,3,2])"
   ]
  },
  {
   "cell_type": "markdown",
   "metadata": {},
   "source": [
    "# Merge Sort"
   ]
  }
 ],
 "metadata": {
  "kernelspec": {
   "display_name": "Python 3.9.13 64-bit (microsoft store)",
   "language": "python",
   "name": "python3"
  },
  "language_info": {
   "codemirror_mode": {
    "name": "ipython",
    "version": 3
   },
   "file_extension": ".py",
   "mimetype": "text/x-python",
   "name": "python",
   "nbconvert_exporter": "python",
   "pygments_lexer": "ipython3",
   "version": "3.9.13"
  },
  "orig_nbformat": 4,
  "vscode": {
   "interpreter": {
    "hash": "8e284ee3255a07ad8bf76694974743c4c81cb57e7c969474d752d949b11d721e"
   }
  }
 },
 "nbformat": 4,
 "nbformat_minor": 2
}
