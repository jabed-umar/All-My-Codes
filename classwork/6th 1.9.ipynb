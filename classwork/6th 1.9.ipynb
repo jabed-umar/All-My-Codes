{
 "cells": [
  {
   "cell_type": "markdown",
   "metadata": {},
   "source": [
    "# Gauss-Seidel method\n"
   ]
  },
  {
   "cell_type": "code",
   "execution_count": 1,
   "metadata": {},
   "outputs": [],
   "source": [
    "# Gauss seidel method\n",
    "def GS(A,b):\n",
    "    n = len(A)\n",
    "    m = 1000\n",
    "    sum = 0\n",
    "    c = 0\n",
    "    e = 0.0001\n",
    "    y = 0\n",
    "    #c = [[0] * n for i in range(n)]\n",
    "    # d = [[0] * n for i in range(n)]\n",
    "    x = [[0] for i in range(n)]\n",
    "    for k in range(m):\n",
    "        y = 0\n",
    "        for i in range(n):\n",
    "            sum = 0\n",
    "            for j in range(0,i):\n",
    "                sum += A[i][j]*x[j][0]\n",
    "            for j in range(i+1,n):\n",
    "                sum += A[i][j]*x[j][0]\n",
    "            c = (b[i][0] - sum)/A[i][i]\n",
    "            if abs(c-x[i][0]) < e:y+=1\n",
    "            x[i][0]=c\n",
    "                      \n",
    "A =  [[4, 1, -1, 1],[1, 4, -1,-1],[-1, -1, 5, 1],[1, -1, 1, 3]]\n",
    "b = [[-2],[-1],[0],[1]]\n",
    "GS(A,b)"
   ]
  },
  {
   "cell_type": "code",
   "execution_count": null,
   "metadata": {},
   "outputs": [],
   "source": [
    "# solve the system of linear equations by gauss-seidel method\n",
    "def gauss_seidel(A,b,x,m,epsilon):\n",
    "    #Finding no of rows/columns of a matrix A    \n",
    "    n = len(A)                   \n",
    "    # for loop  to calculate the value of solution vector x\n",
    "    for k in range(m):\n",
    "        y = 0\n",
    "        for j in range(n): \n",
    "        # b[j] = b[j]                            \n",
    "          for i in range(n):     \n",
    "            if(j != i):\n",
    "                b[j] -= A[j][i] * x[i]\n",
    "        # updating the value of our solution        \n",
    "        x[j] = b[j] / A[j][j]\n",
    "        if abs(x[j]-x[i]) < epsilon:\n",
    "            y = y + 1\n",
    "    # returning our updated solution           \n",
    "    return x           \n",
    "# initial solution depending on number of variables                   \n",
    "x = [0, 0, 0,0,0,0]  \n",
    "# co-efficient matrix and constant matrix                      \n",
    "A = [[4, -1, 0, -1, 0, 0], [-1, 4, -1, 0, -1, 0], [0, -1, 4, 0, 0, -1], [-1, 0, 0, 4, -1, 0], [0, -1, 0, -1, 4, -1],[0, 0, -1, 0, -1, 4]]\n",
    "b = [2,1,2,2,1,2] \n",
    "#loop run for m times depending on m the error value\n",
    "x = gauss_seidel(A,b,x,1000,10**(-6))\n",
    "print(x)"
   ]
  },
  {
   "cell_type": "code",
   "execution_count": null,
   "metadata": {},
   "outputs": [],
   "source": [
    "# Cholesky decomposition method to solve linear equation\n",
    "def Cholesky(A,b):\n",
    "    # finding the number of rows/columns of the matrix A\n",
    "    n = len(A)\n",
    "    # checking the symmetric condition of the matrix \n",
    "    if Symmetric(A) == True: \n",
    "         for i in range(n):\n",
    "             for j in range(i,n):\n",
    "               if j==i:\n",
    "                sum1 = 0 \n",
    "                for k in range(0,i):\n",
    "                   sum1=sum1+A[k][i]**2\n",
    "                A[j][j]= round((A[j][j]-sum1)**(0.5),4)\n",
    "               else:\n",
    "                 A[j][i]=0\n",
    "                 sum2 = 0\n",
    "                 for k in range(0,i): \n",
    "                   sum2=sum2 +A[k][i]*A[k][j]\n",
    "                 A[i][j]= round((A[i][j]-sum2)/A[i][i],4)    \n",
    "            # print(A)\n",
    "    # forward substitution\n",
    "         for i in range(n):\n",
    "             sum = 0\n",
    "             for j in range(i):\n",
    "                sum += (A[i][j] * b[j])\n",
    "                b[i] = b[i] - sum\n",
    "    # backward substitution\n",
    "         for i in range(n-1,-1,-1):\n",
    "            sum = 0\n",
    "            for j in range(i+1,n):\n",
    "                sum += (A[i][j] * b[j])\n",
    "                b[i] = (b[i] - sum)/A[i][i]\n",
    "    # if the matrix is not symmetric \n",
    "    else:\n",
    "        print(\"The matrix is not symmetric\")\n",
    "    return b\n",
    "# main function\n",
    "b = [2,1,2,1,2,1]\n",
    "A = [\n",
    "    [4, -1, 0, -1, 0, 0],\n",
    "    [-1, 4, -1, 0, -1, 0],\n",
    "    [0, -1, 4, 0, 0, -1],\n",
    "    [-1, 0, 0, 4, -1, 0],\n",
    "    [0, -1, 0, -1, 4, -1],\n",
    "    [0, 0, -1, 0, -1, 4],\n",
    "    ]\n",
    "# calling the function\n",
    "Cholesky(A,b)\n",
    "print(\"The solution of the linear equation is : \", b)"
   ]
  }
 ],
 "metadata": {
  "kernelspec": {
   "display_name": "Python 3.9.13 64-bit (windows store)",
   "language": "python",
   "name": "python3"
  },
  "language_info": {
   "codemirror_mode": {
    "name": "ipython",
    "version": 3
   },
   "file_extension": ".py",
   "mimetype": "text/x-python",
   "name": "python",
   "nbconvert_exporter": "python",
   "pygments_lexer": "ipython3",
   "version": "3.9.13"
  },
  "orig_nbformat": 4,
  "vscode": {
   "interpreter": {
    "hash": "822f778737178fe76a6ff500c230e38a1f3004a1451c350514bba9d63e701910"
   }
  }
 },
 "nbformat": 4,
 "nbformat_minor": 2
}
