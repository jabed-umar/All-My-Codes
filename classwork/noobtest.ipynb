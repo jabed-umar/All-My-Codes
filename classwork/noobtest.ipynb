{
 "cells": [
  {
   "cell_type": "code",
   "execution_count": 1,
   "metadata": {},
   "outputs": [
    {
     "name": "stdout",
     "output_type": "stream",
     "text": [
      "1.0  2.0  -1.0  0.0\n",
      "0.0  1.0  1.0  -2.0\n",
      "0.0  0.0  3.0  -3.0\n",
      "0.0  -6.0  -6.0  -1.0\n",
      "[-3.0, 2.0, 4.0, 22.0]\n"
     ]
    }
   ],
   "source": [
    "a =[[0, 1, 1, -2 ], [1, 2,-1, 0 ], [2, 4, 1, -3], [1, -4, -7, -1 ]]\n",
    "b=[-3 ,2 ,-2 ,19 ]\n",
    "\n",
    "def check(a,i,n):\n",
    "    j=0\n",
    "    for j in range(i,n):         \n",
    "     if a[j][i]!=0:return j            \n",
    "    return -1\n",
    "\n",
    "def swap(a,b,k,i): \n",
    " for t in range(0,len(b)):       \n",
    "  a[k][t],a[i][t]=a[i][t],a[k][t]       \n",
    " b[k],b[i]=b[k],b[i]\n",
    "\n",
    "def reduce(a,b,i):\n",
    " for t in range(len(b)):\n",
    "  a[i][t]/=a[i][i]   \n",
    " b[i]/=a[i][i]\n",
    "\n",
    "def convert(a,b,i):\n",
    " g=0\n",
    " n=len(b)\n",
    " for m in range(n):\n",
    "  if m!=i:\n",
    "   g=a[m][i]\n",
    "   for z in range(n):\n",
    "    a[m][z]=a[m][z]-g*a[i][z]\n",
    "   b[m]=b[m]-g*b[i]\n",
    "    \n",
    "def solve(a,b,i):\n",
    " n=len(b)\n",
    " for p in range(n): \n",
    "  q=check(a,i,n)\n",
    "  if q<0:\n",
    "   print(\"No Unique Solution\")\n",
    "   return 0\n",
    " swap(a,b,q,i)                      \n",
    " reduce(a,b,i)\n",
    " convert(a,b,i)\n",
    " for line in a:\n",
    "    print ('  '.join(map(str, line)))\n",
    " print(b)\n",
    "\n",
    "solve(a,b,0)"
   ]
  }
 ],
 "metadata": {
  "kernelspec": {
   "display_name": "Python 3.9.13 64-bit (windows store)",
   "language": "python",
   "name": "python3"
  },
  "language_info": {
   "codemirror_mode": {
    "name": "ipython",
    "version": 3
   },
   "file_extension": ".py",
   "mimetype": "text/x-python",
   "name": "python",
   "nbconvert_exporter": "python",
   "pygments_lexer": "ipython3",
   "version": "3.9.13"
  },
  "orig_nbformat": 4,
  "vscode": {
   "interpreter": {
    "hash": "822f778737178fe76a6ff500c230e38a1f3004a1451c350514bba9d63e701910"
   }
  }
 },
 "nbformat": 4,
 "nbformat_minor": 2
}
