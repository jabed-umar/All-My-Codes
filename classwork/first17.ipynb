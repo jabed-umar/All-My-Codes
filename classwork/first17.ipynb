{
 "cells": [
  {
   "cell_type": "markdown",
   "metadata": {},
   "source": [
    "# Gauss-Jordan Method\n",
    "$$\n",
    "y+z-2w=-3\\\\\n",
    "x+2y-z=2\\\\\n",
    "2x+4y+z-3w=-2\\\\\n",
    "x-4y-z-w=-19\\\\\n",
    "$$"
   ]
  },
  {
   "cell_type": "code",
   "execution_count": 1,
   "metadata": {},
   "outputs": [
    {
     "name": "stdout",
     "output_type": "stream",
     "text": [
      "0\t1\t1\t-2\t-3\t\n",
      "1\t2\t-1\t0\t2\t\n",
      "2\t4\t1\t-3\t-2\t\n",
      "1\t-4\t-1\t-1\t-19\t\n"
     ]
    }
   ],
   "source": [
    "def showMatrix():\n",
    "    # print(\"\\n\")\n",
    "    for i in sd:\n",
    "        for j in i:\n",
    "            print(j, end=\"\\t\")\n",
    "        print()\n",
    "\n",
    "sd = [\n",
    "    [0,1,1,-2,-3],\n",
    "    [1,2,-1,0,2],\n",
    "    [2,4,1,-3,-2],\n",
    "    [1,-4,-1,-1,-19]\n",
    "]\n",
    "showMatrix()\n"
   ]
  },
  {
   "cell_type": "code",
   "execution_count": 2,
   "metadata": {},
   "outputs": [
    {
     "data": {
      "text/plain": [
       "[[1, 2, -1, 0, 2], [0, 1, 1, -2, -3], [2, 4, 1, -3, -2], [1, -4, -1, -1, -19]]"
      ]
     },
     "execution_count": 2,
     "metadata": {},
     "output_type": "execute_result"
    }
   ],
   "source": [
    "def swap_row(sd,i,j):\n",
    "    sd[i],sd[j]=sd[j],sd[i]\n",
    "    return sd\n",
    "swap_row(sd,0,1)"
   ]
  },
  {
   "cell_type": "code",
   "execution_count": 3,
   "metadata": {},
   "outputs": [
    {
     "name": "stdout",
     "output_type": "stream",
     "text": [
      "1\t2\t-1\t0\t2\t\n",
      "0\t1\t1\t-2\t-3\t\n",
      "2\t4\t1\t-3\t-2\t\n",
      "1\t-4\t-1\t-1\t-19\t\n"
     ]
    }
   ],
   "source": [
    "def getone(pp):\n",
    "    for i in range(len(sd[0])):\n",
    "        if sd[pp][pp] != 1:\n",
    "            q00 = sd[pp][pp]\n",
    "\n",
    "            for j in range(len(sd[0])):\n",
    "                sd[pp][j] = sd[pp][j] / q00\n",
    "\n",
    "getone(1)\n",
    "showMatrix()"
   ]
  },
  {
   "cell_type": "markdown",
   "metadata": {},
   "source": []
  }
 ],
 "metadata": {
  "kernelspec": {
   "display_name": "Python 3.9.13 64-bit (windows store)",
   "language": "python",
   "name": "python3"
  },
  "language_info": {
   "codemirror_mode": {
    "name": "ipython",
    "version": 3
   },
   "file_extension": ".py",
   "mimetype": "text/x-python",
   "name": "python",
   "nbconvert_exporter": "python",
   "pygments_lexer": "ipython3",
   "version": "3.9.13"
  },
  "orig_nbformat": 4,
  "vscode": {
   "interpreter": {
    "hash": "822f778737178fe76a6ff500c230e38a1f3004a1451c350514bba9d63e701910"
   }
  }
 },
 "nbformat": 4,
 "nbformat_minor": 2
}
