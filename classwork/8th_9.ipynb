{
 "cells": [
  {
   "cell_type": "markdown",
   "metadata": {},
   "source": [
    "# Regula Falsi method"
   ]
  },
  {
   "cell_type": "code",
   "execution_count": 78,
   "metadata": {},
   "outputs": [],
   "source": [
    "# regula falsi method\n",
    "def regula(a, b, f, tol=1e-6, max_iter=100):\n",
    "    for i in range(max_iter):\n",
    "        c = (a*f(b) - b*f(a))/(f(b) - f(a))\n",
    "        if f(a)*f(c) < 0:\n",
    "            b = c\n",
    "        else:\n",
    "            a = c\n",
    "        if abs(f(c)) < tol:\n",
    "            return c, i\n",
    "    return c, i"
   ]
  },
  {
   "cell_type": "code",
   "execution_count": 79,
   "metadata": {},
   "outputs": [],
   "source": [
    "import math  \n",
    "def fun_1(x):\n",
    "    return x-2*math.cos(x) "
   ]
  },
  {
   "cell_type": "code",
   "execution_count": 80,
   "metadata": {},
   "outputs": [
    {
     "name": "stdout",
     "output_type": "stream",
     "text": [
      "(1.0298664318610733, 6)\n"
     ]
    }
   ],
   "source": [
    "print(regula(1.5, -1.5, fun_1, tol=1e-6,max_iter=100))"
   ]
  },
  {
   "cell_type": "code",
   "execution_count": 81,
   "metadata": {},
   "outputs": [],
   "source": [
    "## Bit complicated case of regula falsi method\n",
    "def fun_(x):\n",
    "    return x**4-4*x**3-x**2-10*x"
   ]
  },
  {
   "cell_type": "code",
   "execution_count": 82,
   "metadata": {},
   "outputs": [
    {
     "name": "stdout",
     "output_type": "stream",
     "text": [
      "(-7.264366315877363e-08, 19)\n"
     ]
    }
   ],
   "source": [
    "print(regula(3.7, 2, fun_, tol=1e-6,max_iter=100))"
   ]
  },
  {
   "cell_type": "code",
   "execution_count": 83,
   "metadata": {},
   "outputs": [],
   "source": [
    "def fun_2(x):\n",
    "    return math.cos(x) - x**3"
   ]
  },
  {
   "cell_type": "code",
   "execution_count": 84,
   "metadata": {},
   "outputs": [
    {
     "name": "stdout",
     "output_type": "stream",
     "text": [
      "(0.8654722468509499, 16)\n"
     ]
    }
   ],
   "source": [
    "print(regula(1.5, -1.5, fun_2, tol=1e-5))"
   ]
  },
  {
   "cell_type": "markdown",
   "metadata": {},
   "source": [
    "# Newton-Raphson Method"
   ]
  },
  {
   "cell_type": "code",
   "execution_count": 85,
   "metadata": {},
   "outputs": [],
   "source": [
    "# Newton Raphson method\n",
    "def newton(a, f, df, tol=1e-6, max_iter=100000):\n",
    "    for i in range(max_iter):\n",
    "        a = a - f(a)/df(a)\n",
    "        if abs(f(a)) < tol:\n",
    "            return a, i\n",
    "    return a, i"
   ]
  },
  {
   "cell_type": "code",
   "execution_count": 86,
   "metadata": {},
   "outputs": [],
   "source": [
    "import math\n",
    "def f_1(x):\n",
    "    return math.tan(x)-x"
   ]
  },
  {
   "cell_type": "code",
   "execution_count": 87,
   "metadata": {},
   "outputs": [
    {
     "name": "stdout",
     "output_type": "stream",
     "text": [
      "(0.014421329443374062, 7062)\n"
     ]
    }
   ],
   "source": [
    "print(newton(0.1, f_1, lambda x: 1/(math.cos(x))**2))"
   ]
  },
  {
   "cell_type": "code",
   "execution_count": 88,
   "metadata": {},
   "outputs": [],
   "source": [
    "import math  \n",
    "def fun_1(x):\n",
    "    return x-2*math.cos(x) "
   ]
  },
  {
   "cell_type": "code",
   "execution_count": 89,
   "metadata": {},
   "outputs": [
    {
     "name": "stdout",
     "output_type": "stream",
     "text": [
      "(1.0298665296667378, 3)\n"
     ]
    }
   ],
   "source": [
    "print(newton(0.1, fun_1, lambda x: 1+2*math.sin(x)))"
   ]
  }
 ],
 "metadata": {
  "kernelspec": {
   "display_name": "Python 3.9.13 64-bit (microsoft store)",
   "language": "python",
   "name": "python3"
  },
  "language_info": {
   "codemirror_mode": {
    "name": "ipython",
    "version": 3
   },
   "file_extension": ".py",
   "mimetype": "text/x-python",
   "name": "python",
   "nbconvert_exporter": "python",
   "pygments_lexer": "ipython3",
   "version": "3.9.13"
  },
  "orig_nbformat": 4,
  "vscode": {
   "interpreter": {
    "hash": "822f778737178fe76a6ff500c230e38a1f3004a1451c350514bba9d63e701910"
   }
  }
 },
 "nbformat": 4,
 "nbformat_minor": 2
}
