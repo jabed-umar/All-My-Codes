{
 "cells": [
  {
   "cell_type": "markdown",
   "metadata": {},
   "source": [
    "# Defining the functions"
   ]
  },
  {
   "cell_type": "code",
   "execution_count": 46,
   "metadata": {},
   "outputs": [],
   "source": [
    "# defing 1st function \n",
    "def f(x):\n",
    "    return 1/x\n",
    "# defining 2nd function \n",
    "import math \n",
    "def fun(x):\n",
    "    return x*math.cos(x)\n",
    "# defining 3rd function\n",
    "def ff(x):\n",
    "    return 4/(1+x**2)"
   ]
  },
  {
   "cell_type": "markdown",
   "metadata": {},
   "source": [
    "# Integration by Mid-point Rule\n"
   ]
  },
  {
   "cell_type": "code",
   "execution_count": 47,
   "metadata": {},
   "outputs": [],
   "source": [
    "# integration by mid point method \n",
    "def midpoint(f, a, b, n):\n",
    "    h = (b-a)/n\n",
    "    s = 0\n",
    "    for i in range(n):\n",
    "        s += f(a + h*(i+0.5))\n",
    "    return s*h\n"
   ]
  },
  {
   "cell_type": "code",
   "execution_count": 48,
   "metadata": {},
   "outputs": [
    {
     "name": "stdout",
     "output_type": "stream",
     "text": [
      "0.6912198912198912\n",
      "0.6926605540432034\n",
      "0.6929304950783957\n",
      "0.6930690982255869\n"
     ]
    }
   ],
   "source": [
    "# function input\n",
    "print(midpoint(f, 1, 2, 4))\n",
    "print(midpoint(f, 1, 2, 8))\n",
    "print(midpoint(f, 1, 2, 12))\n",
    "print(midpoint(f, 1, 2, 20))"
   ]
  },
  {
   "cell_type": "code",
   "execution_count": 49,
   "metadata": {},
   "outputs": [
    {
     "name": "stdout",
     "output_type": "stream",
     "text": [
      "0.3851723168011137\n",
      "0.38262106492372505\n",
      "0.3821499164174765\n",
      "0.38190884594792784\n"
     ]
    }
   ],
   "source": [
    "print(midpoint(fun, 0, 1, 4))\n",
    "print(midpoint(fun, 0, 1, 8))\n",
    "print(midpoint(fun, 0, 1, 12))\n",
    "print(midpoint(fun, 0, 1, 20))"
   ]
  },
  {
   "cell_type": "markdown",
   "metadata": {},
   "source": [
    "# Integration by trapezoidal rule"
   ]
  },
  {
   "cell_type": "code",
   "execution_count": 50,
   "metadata": {},
   "outputs": [],
   "source": [
    "# integration by trapezoidal method\n",
    "def trapezoidal(f, a, b, n):\n",
    "    h = (b-a)/n\n",
    "    s = 0.5*(f(a) + f(b))\n",
    "    for i in range(1, n):\n",
    "        s += f(a + h*i)\n",
    "    return s*h"
   ]
  },
  {
   "cell_type": "code",
   "execution_count": 51,
   "metadata": {},
   "outputs": [
    {
     "name": "stdout",
     "output_type": "stream",
     "text": [
      "0.6970238095238095\n",
      "0.6941218503718504\n",
      "0.6935808328761619\n",
      "0.693303381792694\n"
     ]
    }
   ],
   "source": [
    "#function input\n",
    "print(trapezoidal(f, 1,2, 4))\n",
    "print(trapezoidal(f, 1,2, 8))\n",
    "print(trapezoidal(f, 1,2, 12))\n",
    "print(trapezoidal(f, 1,2, 20))"
   ]
  },
  {
   "cell_type": "code",
   "execution_count": 52,
   "metadata": {},
   "outputs": [
    {
     "name": "stdout",
     "output_type": "stream",
     "text": [
      "0.5376071275673585\n",
      "0.5625275221623354\n",
      "0.567123636789182\n",
      "0.569474588169518\n"
     ]
    }
   ],
   "source": [
    "# function input\n",
    "print(trapezoidal(fun, 0, math.pi/2, 4))\n",
    "print(trapezoidal(fun, 0, math.pi/2, 8))\n",
    "print(trapezoidal(fun, 0, math.pi/2, 12))\n",
    "print(trapezoidal(fun, 0, math.pi/2, 20))"
   ]
  },
  {
   "cell_type": "markdown",
   "metadata": {},
   "source": [
    "# Integration by Simpson's rule"
   ]
  },
  {
   "cell_type": "code",
   "execution_count": null,
   "metadata": {},
   "outputs": [],
   "source": [
    "### integration by simpson's method\n",
    "def Simpson(funx,a,b,N):\n",
    "    k=1\n",
    "    sum=0\n",
    "    h=(b-a)/N\n",
    "    \n",
    "    for i in range(N):\n",
    "        if i==0 and i==N-1:\n",
    "            k=1\n",
    "        elif i%2==0:\n",
    "            k=2\n",
    "        else:\n",
    "            k=4\n",
    "        sum= sum + k*funx(a+i*h)\n",
    "\n",
    "    sum= round(sum*h/3, 8)\n",
    "    # print(\"sum for N (\",N,\") =\",sum)\n",
    "    print (\"For n =\",N)\n",
    "    return sum\n"
   ]
  },
  {
   "cell_type": "code",
   "execution_count": null,
   "metadata": {},
   "outputs": [],
   "source": [
    "#3)Simpson Methode\n",
    "def simpson(f, x, y, n,flag):\n",
    "        # calculating n \n",
    "        #flag is used to gice output depending on requirement \n",
    "        h = abs(y - x) / n\n",
    "        sn = f(x) + f(y)\n",
    "        # applying the algorithm\n",
    "        for i in range(1, n):\n",
    "            if i % 2 == 0:\n",
    "                x = x + h\n",
    "                sn = sn + 2 * f(x)\n",
    "            else:\n",
    "                x = x + h\n",
    "                sn = sn + 4 * f(x)\n",
    "        t = (h / 3) * sn\n",
    "        if flag ==True :\n",
    "            print(n,\":\",round(t,9))\n",
    "        else:\n",
    "            return round(t,8)\n",
    "\n",
    "### integration by monte carlo method"
   ]
  },
  {
   "cell_type": "code",
   "execution_count": 53,
   "metadata": {},
   "outputs": [],
   "source": [
    "def Simpson(funx,a,b,N):\n",
    "    k=1\n",
    "    sum=0\n",
    "    h=(b-a)/N\n",
    "    \n",
    "    for i in range(N):\n",
    "        if i==0 and i==N-1:\n",
    "            k=1\n",
    "        elif i%2==0:\n",
    "            k=2\n",
    "        else:\n",
    "            k=4\n",
    "        sum= sum + k*funx(a+i*h)\n",
    "\n",
    "    sum=round(sum*h/3, 8)\n",
    "    print(\"sum for N (\",N,\") =\",sum)\n",
    "    return sum"
   ]
  },
  {
   "cell_type": "code",
   "execution_count": 54,
   "metadata": {},
   "outputs": [
    {
     "name": "stdout",
     "output_type": "stream",
     "text": [
      "sum for N ( 7 ) = 0.69231139\n"
     ]
    },
    {
     "data": {
      "text/plain": [
       "0.69231139"
      ]
     },
     "execution_count": 54,
     "metadata": {},
     "output_type": "execute_result"
    }
   ],
   "source": [
    "Simpson(f,1,2,7)"
   ]
  },
  {
   "cell_type": "markdown",
   "metadata": {},
   "source": [
    "# Checking the N (max number of sub-intervals) for the mid-point/trapezoidal rule"
   ]
  },
  {
   "cell_type": "code",
   "execution_count": 55,
   "metadata": {},
   "outputs": [],
   "source": [
    "# Finding the value of N for which the error is less than 0.0001\n",
    "# first function for mid point method \n",
    "def max_N(a,b,f,ddf,e):\n",
    "    return math.ceil(math.sqrt((b-a)**3*abs(ddf)/(24*e)))\n",
    "# 2nd function for trapezoidal method\n",
    "def max_n(a,b,fun,ddf,e):\n",
    "    return math.ceil(math.sqrt((b-a)**3*abs(ddf)/(12*e)))\n",
    "# 3rd function for simpson's method\n",
    "def max(a,b,fun,ddddf,e):\n",
    "    return math.ceil(((b-a)**3*abs(ddddf)/(180*e))**(1/4))"
   ]
  },
  {
   "cell_type": "code",
   "execution_count": 56,
   "metadata": {},
   "outputs": [
    {
     "name": "stdout",
     "output_type": "stream",
     "text": [
      "the maximum number of interval(N) for 1/x is 29\n",
      "the maximum number of interval(N) for x*cox(x) is 61\n",
      "the maximum number of interval(N) for 1/x is 41\n",
      "the maximum number of interval(N) for x*cox(x) is 87\n",
      "the maximum number of interval(N) for 1/x is 7\n",
      "the maximum number of interval(N) for x*cox(x) is 6\n"
     ]
    }
   ],
   "source": [
    "# function input for mid point method\n",
    "print(\"the maximum number of interval(N) for 1/x is\", max_N(1,2,f,2,0.0001))\n",
    "print(\"the maximum number of interval(N) for x*cox(x) is\", max_N(0,math.pi/2,fun,2.299,0.0001))\n",
    "#function input for trapezoidal method\n",
    "print(\"the maximum number of interval(N) for 1/x is\", max_n(1,2,f,2,0.0001))\n",
    "print(\"the maximum number of interval(N) for x*cox(x) is\", max_n(0,math.pi/2,fun,2.299,0.0001))\n",
    "#function input for simpson's method\n",
    "print(\"the maximum number of interval(N) for 1/x is\", max(1,2,f,24,0.0001))\n",
    "print(\"the maximum number of interval(N) for x*cox(x) is\", max(0,math.pi/2,fun,4,0.0001))"
   ]
  },
  {
   "cell_type": "markdown",
   "metadata": {},
   "source": [
    "# Monte Carlo Integration"
   ]
  },
  {
   "cell_type": "code",
   "execution_count": 57,
   "metadata": {},
   "outputs": [],
   "source": [
    "# integration by Monte Carlo method\n",
    "import random\n",
    "def monte_carlo(f, a, b, n):\n",
    "    s = 0\n",
    "    for i in range(n):\n",
    "        x = random.uniform(a, b)\n",
    "        s += f(x)\n",
    "    return s*(b-a)/n"
   ]
  },
  {
   "cell_type": "code",
   "execution_count": 59,
   "metadata": {},
   "outputs": [
    {
     "name": "stdout",
     "output_type": "stream",
     "text": [
      "0.690618591529656\n",
      "3.156125275813817\n"
     ]
    }
   ],
   "source": [
    "#function input\n",
    "print(monte_carlo(f, 1,2, 4000))\n",
    "print(monte_carlo(ff, 0,1, 1000))"
   ]
  }
 ],
 "metadata": {
  "kernelspec": {
   "display_name": "Python 3.9.13 64-bit (microsoft store)",
   "language": "python",
   "name": "python3"
  },
  "language_info": {
   "codemirror_mode": {
    "name": "ipython",
    "version": 3
   },
   "file_extension": ".py",
   "mimetype": "text/x-python",
   "name": "python",
   "nbconvert_exporter": "python",
   "pygments_lexer": "ipython3",
   "version": "3.9.13"
  },
  "orig_nbformat": 4,
  "vscode": {
   "interpreter": {
    "hash": "8e284ee3255a07ad8bf76694974743c4c81cb57e7c969474d752d949b11d721e"
   }
  }
 },
 "nbformat": 4,
 "nbformat_minor": 2
}
