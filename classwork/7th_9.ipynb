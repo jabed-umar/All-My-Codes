{
 "cells": [
  {
   "cell_type": "markdown",
   "metadata": {},
   "source": [
    "# Roots finding "
   ]
  },
  {
   "cell_type": "code",
   "execution_count": 21,
   "metadata": {},
   "outputs": [],
   "source": [
    "# Date : 09.07.2022"
   ]
  },
  {
   "cell_type": "markdown",
   "metadata": {},
   "source": [
    "# Bisection method"
   ]
  },
  {
   "cell_type": "code",
   "execution_count": 22,
   "metadata": {},
   "outputs": [],
   "source": [
    "# Roots finding by bisection method\n",
    "def root(a, b, f, tol=1e-5):\n",
    "    if f(a) * f(b) > 0:\n",
    "        print(\"No root in this interval\")\n",
    "        return None\n",
    "    while abs(a - b) > tol:\n",
    "        c = (a + b) / 2\n",
    "        if f(a) * f(c) < 0:\n",
    "            b = c\n",
    "        else:\n",
    "            a = c\n",
    "    return (a + b) / 2"
   ]
  },
  {
   "cell_type": "code",
   "execution_count": 23,
   "metadata": {},
   "outputs": [],
   "source": [
    "import math  \n",
    "def fun_1(x):\n",
    "    return x-2*math.cos(x) \n"
   ]
  },
  {
   "cell_type": "code",
   "execution_count": 24,
   "metadata": {},
   "outputs": [],
   "source": [
    "def fun_2(x):\n",
    "    return math.cos(x) - x**3"
   ]
  },
  {
   "cell_type": "code",
   "execution_count": 25,
   "metadata": {},
   "outputs": [],
   "source": [
    "def fun_3(x):\n",
    "    return 3*x+math.sin(x)-math.exp(x) "
   ]
  },
  {
   "cell_type": "code",
   "execution_count": 26,
   "metadata": {},
   "outputs": [],
   "source": [
    "def fun_4(x):\n",
    "    return x*math.exp(x) -2 "
   ]
  },
  {
   "cell_type": "code",
   "execution_count": 27,
   "metadata": {},
   "outputs": [
    {
     "name": "stdout",
     "output_type": "stream",
     "text": [
      "1.0298681259155273\n",
      "0.865473747253418\n",
      "0.36042308807373047\n",
      "0.852604866027832\n"
     ]
    }
   ],
   "source": [
    "print(root(1.5, -1.5, fun_1, tol=1e-5))\n",
    "print(root(1.5, -1.5, fun_2, tol=1e-5))\n",
    "print(root(1.5, -1.5, fun_3, tol=1e-5))\n",
    "print(root(1.5, -1.5, fun_4, tol=1e-5))"
   ]
  },
  {
   "cell_type": "markdown",
   "metadata": {},
   "source": [
    "# Bracketing method"
   ]
  },
  {
   "cell_type": "code",
   "execution_count": null,
   "metadata": {},
   "outputs": [],
   "source": [
    "def bracket(a, b, f, tol=1e-5):\n",
    "    if f(a) * f(b) > 0:\n",
    "        i = 0\n",
    "        print(\"No root in this interval\")\n",
    "        return None\n",
    "    while "
   ]
  }
 ],
 "metadata": {
  "kernelspec": {
   "display_name": "Python 3.9.13 64-bit (windows store)",
   "language": "python",
   "name": "python3"
  },
  "language_info": {
   "codemirror_mode": {
    "name": "ipython",
    "version": 3
   },
   "file_extension": ".py",
   "mimetype": "text/x-python",
   "name": "python",
   "nbconvert_exporter": "python",
   "pygments_lexer": "ipython3",
   "version": "3.9.13"
  },
  "orig_nbformat": 4,
  "vscode": {
   "interpreter": {
    "hash": "822f778737178fe76a6ff500c230e38a1f3004a1451c350514bba9d63e701910"
   }
  }
 },
 "nbformat": 4,
 "nbformat_minor": 2
}
