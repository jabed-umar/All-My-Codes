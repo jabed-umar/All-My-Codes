{
 "cells": [
  {
   "cell_type": "markdown",
   "metadata": {},
   "source": [
    "# Eigen values and eigen vectors of a given matrix "
   ]
  },
  {
   "cell_type": "code",
   "execution_count": null,
   "metadata": {},
   "outputs": [],
   "source": [
    "import Library.assign1 sd"
   ]
  },
  {
   "cell_type": "code",
   "execution_count": null,
   "metadata": {},
   "outputs": [],
   "source": [
    "# Finding the eigen values by power iteration method \n",
    "A = [[1,-1,0],\n",
    "[-2,4,-2],\n",
    "[0,-1,2]]\n",
    "x0 = [1,1,1]\n",
    "r = [[0,0,0],\n",
    "    [0,0,0],\n",
    "    [0,0,0],]\n",
    "k = print(\"enter a number\")\n",
    "for i in range(k):\n",
    "    \n"
   ]
  }
 ],
 "metadata": {
  "kernelspec": {
   "display_name": "Python 3.9.13 64-bit (microsoft store)",
   "language": "python",
   "name": "python3"
  },
  "language_info": {
   "name": "python",
   "version": "3.9.13"
  },
  "orig_nbformat": 4,
  "vscode": {
   "interpreter": {
    "hash": "822f778737178fe76a6ff500c230e38a1f3004a1451c350514bba9d63e701910"
   }
  }
 },
 "nbformat": 4,
 "nbformat_minor": 2
}
