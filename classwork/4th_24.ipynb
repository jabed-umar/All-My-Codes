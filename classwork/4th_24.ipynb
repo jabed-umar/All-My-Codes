{
 "cells": [
  {
   "cell_type": "markdown",
   "metadata": {},
   "source": [
    "# Cholesky decomposition"
   ]
  },
  {
   "cell_type": "code",
   "execution_count": 21,
   "metadata": {},
   "outputs": [
    {
     "name": "stdout",
     "output_type": "stream",
     "text": [
      "True\n",
      "[[1.7320508075688772, 0.0, 0.0], [-0.5773502691896258, 1.2909944487358056, 0.0], [1.1547005383792517, -0.258198889747161, 1.6124515496597098]]\n",
      "[2.666666666666667, 0.0, 0.0]\n"
     ]
    }
   ],
   "source": [
    "# cholesky decomposition\n",
    "# check the matrix whether its symmetric or not in python\n",
    "def mat(A):\n",
    "    n = len(A)\n",
    "    for i in range(n):\n",
    "        for j in range(i):\n",
    "            if A[i][j] != A[j][i]:\n",
    "                return False\n",
    "    return True\n",
    "# Solving linear equation using cholesky decomposition \n",
    "if mat(A)== False:\n",
    "        print(\"Matrix is not symmetric\")\n",
    "        \n",
    "        \n",
    "        \n",
    "# decompose a matrix using cholesky decomposition into lower and upper tringular matrix\n",
    "def cholesky_decompose(A):\n",
    "    n = len(A)\n",
    "    for i in range(n):\n",
    "        for k in range(i+1):\n",
    "                \n",
    "\n",
    "\n",
    "\n",
    "\n",
    "\n",
    "\n",
    "\n",
    "\n",
    "# Driver code    \n",
    "A = [[3, -1, 2], [-1, 2, -1], [2,-1, 4]]\n",
    "b = [8,-5,11]\n",
    "print(mat(A))\n",
    "print(cholesky_decompose(A))\n",
    "\n",
    "\n"
   ]
  },
  {
   "cell_type": "code",
   "execution_count": 24,
   "metadata": {},
   "outputs": [
    {
     "name": "stdout",
     "output_type": "stream",
     "text": [
      "([[1.7321, 0, 0], [-0.5773, 1.291, 0], [1.1547, -0.2582, 1.6125]], [[1.7321, -0.5773, 1.1547], [0, 1.291, -0.2582], [0, 0, 1.6125]])\n"
     ]
    }
   ],
   "source": [
    "import math\n",
    "def LU(A):\n",
    " n=len(A)\n",
    " sum=0\n",
    " B=[[0 for x in range(n)] for y in range(n)]\n",
    " C=[[0 for x in range(n)] for y in range(n)]\n",
    " for i in range(n):\n",
    "  for j in range(i,n):\n",
    "      \n",
    "   if j==i:\n",
    "    for k in range(i):\n",
    "     sum=sum+B[k][i]**2\n",
    "    B[j][j]= round((A[j][j]-sum)**(0.5),4)\n",
    "    \n",
    "   else:\n",
    "    for k in range(i): \n",
    "     sum=sum+B[k][i]*B[k][j]\n",
    "    B[i][j]= round((A[i][j]-sum)/B[i][i],4)\n",
    "        \n",
    "   sum=0\n",
    "   C[j][i]=B[i][j]\n",
    " \n",
    " return C,B\n",
    "A = [[3, -1, 2], [-1, 2, -1], [2,-1, 4]]\n",
    "print(LU(A))"
   ]
  },
  {
   "cell_type": "code",
   "execution_count": null,
   "metadata": {},
   "outputs": [],
   "source": [
    "def solve(A,b): \n",
    "    n = len(A)\n",
    "    L = [[0.0] * n for i in range(n)]\n",
    "    for i in range(n):\n",
    "            for k in range(i+1):\n",
    "                tmp_sum = sum(L[i][j] * L[k][j] for j in range(k))\n",
    "                if (i == k): # Diagonal elements\n",
    "                    L[i][k] = (A[i][i] - tmp_sum)**(1/2)\n",
    "                else:\n",
    "                    L[i][k] = (1.0 / L[k][k] * (A[i][k] - tmp_sum))\n",
    "        # Solve L * y = b\n",
    "    y = [0.0] * n\n",
    "    for i in range(n):\n",
    "            tmp_sum = sum(L[i][j] * y[j] for j in range(i))\n",
    "            y[i] = (b[i] - tmp_sum) / L[i][i]\n",
    "        # Solve L^T * x = y\n",
    "    x = [0.0] * n\n",
    "    for i in range(n-1, -1, -1):\n",
    "            tmp_sum = sum(L[j][i] * x[j] for j in range(i+1, n))\n",
    "    x[i] = (y[i] - tmp_sum) / L[i][i]\n",
    "    return x\n",
    "print(solve(A,b)) "
   ]
  }
 ],
 "metadata": {
  "kernelspec": {
   "display_name": "Python 3.9.13 64-bit (windows store)",
   "language": "python",
   "name": "python3"
  },
  "language_info": {
   "codemirror_mode": {
    "name": "ipython",
    "version": 3
   },
   "file_extension": ".py",
   "mimetype": "text/x-python",
   "name": "python",
   "nbconvert_exporter": "python",
   "pygments_lexer": "ipython3",
   "version": "3.9.13"
  },
  "orig_nbformat": 4,
  "vscode": {
   "interpreter": {
    "hash": "822f778737178fe76a6ff500c230e38a1f3004a1451c350514bba9d63e701910"
   }
  }
 },
 "nbformat": 4,
 "nbformat_minor": 2
}
