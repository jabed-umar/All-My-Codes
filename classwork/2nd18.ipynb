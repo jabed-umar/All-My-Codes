{
 "cells": [
  {
   "cell_type": "code",
   "execution_count": null,
   "metadata": {},
   "outputs": [],
   "source": []
  },
  {
   "cell_type": "code",
   "execution_count": 2,
   "metadata": {},
   "outputs": [
    {
     "name": "stdout",
     "output_type": "stream",
     "text": [
      "1.0  2.0  -1.0  0.0  2.0\n",
      "0.0  1.0  1.0  -2.0  -3.0\n",
      "0.0  0.0  3.0  -3.0  -6.0\n",
      "0.0  -6.0  -6.0  -1.0  17.0\n",
      "\n",
      "1.0  0.0  -3.0  4.0  8.0\n",
      "0.0  1.0  1.0  -2.0  -3.0\n",
      "0.0  0.0  3.0  -3.0  -6.0\n",
      "0.0  0.0  0.0  -13.0  -1.0\n",
      "\n",
      "1.0  0.0  0.0  -5.0  -10.0\n",
      "0.0  1.0  0.0  1.0  3.0\n",
      "0.0  0.0  1.0  -3.0  -6.0\n",
      "0.0  0.0  0.0  -13.0  -1.0\n",
      "\n",
      "1.0  0.0  0.0  0.0  -15.0\n",
      "0.0  1.0  0.0  0.0  4.0\n",
      "0.0  0.0  1.0  0.0  -9.0\n",
      "-0.0  -0.0  -0.0  1.0  -1.0\n",
      "\n"
     ]
    }
   ],
   "source": [
    "a =[[0, 1, 1, -2,-3 ], [1, 2,-1, 0, 2], [2, 4, 1, -3, -2], [1, -4, -7, -1, 19 ]]\n",
    "b=[-3 ,2 ,-2 ,19 ]\n",
    "def check(a,i,n):\n",
    "    j=0\n",
    "    for j in range(i,n):         \n",
    "     if a[j][i]!=0:return j            \n",
    "    return -1\n",
    "\n",
    "def swap(a,k,i): \n",
    " for t in range(0,len(a[0])):       \n",
    "  a[k][t],a[i][t]=a[i][t],a[k][t]       \n",
    "\n",
    "def reduce(a,i):\n",
    " for t in range(len(a[0])):\n",
    "  a[i][t]/=float(a[i][i])  \n",
    "\n",
    "def convert(a,i):\n",
    " g=0\n",
    " n=len(a)\n",
    " for m in range(n):\n",
    "  if m!=i:\n",
    "   g=a[m][i]\n",
    "   for z in range(len(a[0])):\n",
    "    a[m][z]=a[m][z]-g*a[i][z]\n",
    "    \n",
    "def solve(a,b,i):\n",
    " n=len(a)\n",
    " for p in range(n): \n",
    "  q=check(a,i,n)\n",
    "  if q<0:\n",
    "   print(\"No Unique Solution\")\n",
    "   return 0\n",
    " swap(a,q,i)                      \n",
    " reduce(a,i)\n",
    " convert(a,i)\n",
    " for line in a:\n",
    "    print ('  '.join(map(str, line)))\n",
    "    \n",
    "\n",
    "for i in range(len(a[0])-1):\n",
    " solve(a,b,i)\n",
    " print()"
   ]
  }
 ],
 "metadata": {
  "kernelspec": {
   "display_name": "Python 3.9.13 64-bit (windows store)",
   "language": "python",
   "name": "python3"
  },
  "language_info": {
   "codemirror_mode": {
    "name": "ipython",
    "version": 3
   },
   "file_extension": ".py",
   "mimetype": "text/x-python",
   "name": "python",
   "nbconvert_exporter": "python",
   "pygments_lexer": "ipython3",
   "version": "3.9.13"
  },
  "orig_nbformat": 4,
  "vscode": {
   "interpreter": {
    "hash": "822f778737178fe76a6ff500c230e38a1f3004a1451c350514bba9d63e701910"
   }
  }
 },
 "nbformat": 4,
 "nbformat_minor": 2
}
