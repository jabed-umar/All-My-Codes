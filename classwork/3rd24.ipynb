{
 "cells": [
  {
   "cell_type": "code",
   "execution_count": null,
   "metadata": {},
   "outputs": [],
   "source": [
    "# Write a function to find lcm of two numbers\n",
    "def LCM(a,b):\n",
    "    if a>b:\n",
    "        greater = a\n",
    "    else:\n",
    "        greater = b\n",
    "    while(True):\n",
    "        if((greater%a==0) and (greater%b==0)):\n",
    "            lcm = greater\n",
    "            break\n",
    "        greater += 1\n",
    "    return lcm"
   ]
  },
  {
   "cell_type": "markdown",
   "metadata": {},
   "source": [
    "# LU decomposition\n"
   ]
  },
  {
   "cell_type": "code",
   "execution_count": 6,
   "metadata": {},
   "outputs": [
    {
     "ename": "ValueError",
     "evalue": "math domain error",
     "output_type": "error",
     "traceback": [
      "\u001b[1;31m---------------------------------------------------------------------------\u001b[0m",
      "\u001b[1;31mValueError\u001b[0m                                Traceback (most recent call last)",
      "\u001b[1;32mc:\\Users\\PC\\Desktop\\python\\classwork\\3rd24.ipynb Cell 3\u001b[0m in \u001b[0;36m<cell line: 54>\u001b[1;34m()\u001b[0m\n\u001b[0;32m     <a href='vscode-notebook-cell:/c%3A/Users/PC/Desktop/python/classwork/3rd24.ipynb#W2sZmlsZQ%3D%3D?line=49'>50</a>\u001b[0m n \u001b[39m=\u001b[39m \u001b[39m3\u001b[39m;\n\u001b[0;32m     <a href='vscode-notebook-cell:/c%3A/Users/PC/Desktop/python/classwork/3rd24.ipynb#W2sZmlsZQ%3D%3D?line=50'>51</a>\u001b[0m matrix \u001b[39m=\u001b[39m [[\u001b[39m3\u001b[39m, \u001b[39m-\u001b[39m\u001b[39m1\u001b[39m, \u001b[39m2\u001b[39m],\n\u001b[0;32m     <a href='vscode-notebook-cell:/c%3A/Users/PC/Desktop/python/classwork/3rd24.ipynb#W2sZmlsZQ%3D%3D?line=51'>52</a>\u001b[0m           [\u001b[39m-\u001b[39m\u001b[39m1\u001b[39m, \u001b[39m2\u001b[39m, \u001b[39m-\u001b[39m\u001b[39m1\u001b[39m], \n\u001b[0;32m     <a href='vscode-notebook-cell:/c%3A/Users/PC/Desktop/python/classwork/3rd24.ipynb#W2sZmlsZQ%3D%3D?line=52'>53</a>\u001b[0m           [\u001b[39m2\u001b[39m,\u001b[39m-\u001b[39m\u001b[39m1\u001b[39m, \u001b[39m4\u001b[39m]]\n\u001b[1;32m---> <a href='vscode-notebook-cell:/c%3A/Users/PC/Desktop/python/classwork/3rd24.ipynb#W2sZmlsZQ%3D%3D?line=53'>54</a>\u001b[0m Cholesky_Decomposition(matrix, n)\n",
      "\u001b[1;32mc:\\Users\\PC\\Desktop\\python\\classwork\\3rd24.ipynb Cell 3\u001b[0m in \u001b[0;36mCholesky_Decomposition\u001b[1;34m(matrix, n)\u001b[0m\n\u001b[0;32m     <a href='vscode-notebook-cell:/c%3A/Users/PC/Desktop/python/classwork/3rd24.ipynb#W2sZmlsZQ%3D%3D?line=19'>20</a>\u001b[0m     \u001b[39mfor\u001b[39;00m k \u001b[39min\u001b[39;00m \u001b[39mrange\u001b[39m(j):\n\u001b[0;32m     <a href='vscode-notebook-cell:/c%3A/Users/PC/Desktop/python/classwork/3rd24.ipynb#W2sZmlsZQ%3D%3D?line=20'>21</a>\u001b[0m         sum1 \u001b[39m+\u001b[39m\u001b[39m=\u001b[39m \u001b[39mpow\u001b[39m(lower[j][k], \u001b[39m2\u001b[39m);\n\u001b[1;32m---> <a href='vscode-notebook-cell:/c%3A/Users/PC/Desktop/python/classwork/3rd24.ipynb#W2sZmlsZQ%3D%3D?line=21'>22</a>\u001b[0m     lower[i][j] \u001b[39m=\u001b[39m \u001b[39mint\u001b[39m(math\u001b[39m.\u001b[39;49msqrt(matrix[j][j] \u001b[39m-\u001b[39;49m sum1));\n\u001b[0;32m     <a href='vscode-notebook-cell:/c%3A/Users/PC/Desktop/python/classwork/3rd24.ipynb#W2sZmlsZQ%3D%3D?line=22'>23</a>\u001b[0m \u001b[39melse\u001b[39;00m:\n\u001b[0;32m     <a href='vscode-notebook-cell:/c%3A/Users/PC/Desktop/python/classwork/3rd24.ipynb#W2sZmlsZQ%3D%3D?line=23'>24</a>\u001b[0m      \n\u001b[0;32m     <a href='vscode-notebook-cell:/c%3A/Users/PC/Desktop/python/classwork/3rd24.ipynb#W2sZmlsZQ%3D%3D?line=24'>25</a>\u001b[0m     \u001b[39m# Evaluating L(i, j)\u001b[39;00m\n\u001b[0;32m     <a href='vscode-notebook-cell:/c%3A/Users/PC/Desktop/python/classwork/3rd24.ipynb#W2sZmlsZQ%3D%3D?line=25'>26</a>\u001b[0m     \u001b[39m# using L(j, j)\u001b[39;00m\n\u001b[0;32m     <a href='vscode-notebook-cell:/c%3A/Users/PC/Desktop/python/classwork/3rd24.ipynb#W2sZmlsZQ%3D%3D?line=26'>27</a>\u001b[0m     \u001b[39mfor\u001b[39;00m k \u001b[39min\u001b[39;00m \u001b[39mrange\u001b[39m(j):\n",
      "\u001b[1;31mValueError\u001b[0m: math domain error"
     ]
    }
   ],
   "source": [
    "# Python3 program to decompose\n",
    "# a matrix using Cholesky\n",
    "# Decomposition\n",
    "import math\n",
    "MAX = 100;\n",
    " \n",
    "def Cholesky_Decomposition(matrix, n):\n",
    " \n",
    "    lower = [[0 for x in range(n + 1)]\n",
    "                for y in range(n + 1)];\n",
    " \n",
    "    # Decomposing a matrix\n",
    "    # into Lower Triangular\n",
    "    for i in range(n):\n",
    "        for j in range(i + 1):\n",
    "            sum1 = 0;\n",
    " \n",
    "            # summation for diagonals\n",
    "            if (j == i):\n",
    "                for k in range(j):\n",
    "                    sum1 += pow(lower[j][k], 2);\n",
    "                lower[i][j] = int(math.sqrt(matrix[j][j] - sum1));\n",
    "            else:\n",
    "                 \n",
    "                # Evaluating L(i, j)\n",
    "                # using L(j, j)\n",
    "                for k in range(j):\n",
    "                    sum1 += (lower[i][k] *lower[j][k]);\n",
    "                if(lower[j][j] > 0):\n",
    "                    lower[i][j] = int((matrix[i][j] - sum1) /\n",
    "                                               lower[j][j]);\n",
    " \n",
    "    # Displaying Lower Triangular\n",
    "    # and its Transpose\n",
    "    print(\"Lower Triangular\\t\\tTranspose\");\n",
    "    for i in range(n):\n",
    "         \n",
    "        # Lower Triangular\n",
    "        for j in range(n):\n",
    "            print(lower[i][j], end = \"\\t\");\n",
    "        print(\"\", end = \"\\t\");\n",
    "         \n",
    "        # Transpose of\n",
    "        # Lower Triangular\n",
    "        for j in range(n):\n",
    "            print(lower[j][i], end = \"\\t\");\n",
    "        print(\"\");\n",
    " \n",
    "# Driver Code\n",
    "n = 3;\n",
    "matrix = [[3, -1, 2],\n",
    "          [-1, 2, -1], \n",
    "          [2,-1, 4]]\n",
    "Cholesky_Decomposition(matrix, n);\n",
    " \n",
    "# This code is contributed by Jabed"
   ]
  },
  {
   "cell_type": "code",
   "execution_count": 8,
   "metadata": {},
   "outputs": [
    {
     "data": {
      "text/plain": [
       "[[1.7320508075688772, 0.0, 0.0],\n",
       " [-0.5773502691896258, 1.2909944487358056, 0.0],\n",
       " [1.1547005383792517, -0.258198889747161, 1.6124515496597098]]"
      ]
     },
     "execution_count": 8,
     "metadata": {},
     "output_type": "execute_result"
    }
   ],
   "source": [
    "# decompose a matrix using cholesky decomposition into lower and upper tringular matrix\n",
    "def cholesky_decompose(A):\n",
    "    n = len(A)\n",
    "    L = [[0.0] * n for i in range(n)]\n",
    "    for i in range(n):\n",
    "        for k in range(i+1):\n",
    "            tmp_sum = sum(L[i][j] * L[k][j] for j in range(k))\n",
    "            L[i][k] = math.sqrt(A[i][i] - tmp_sum) if (i == k) else \\\n",
    "                      (1.0 / L[k][k] * (A[i][k] - tmp_sum))\n",
    "    return L\n",
    "A= [[3, -1, 2],\n",
    "    [-1, 2, -1], \n",
    "    [2,-1, 4]]\n",
    "cholesky_decompose(A)"
   ]
  }
 ],
 "metadata": {
  "kernelspec": {
   "display_name": "Python 3.9.13 64-bit (windows store)",
   "language": "python",
   "name": "python3"
  },
  "language_info": {
   "codemirror_mode": {
    "name": "ipython",
    "version": 3
   },
   "file_extension": ".py",
   "mimetype": "text/x-python",
   "name": "python",
   "nbconvert_exporter": "python",
   "pygments_lexer": "ipython3",
   "version": "3.9.13"
  },
  "orig_nbformat": 4,
  "vscode": {
   "interpreter": {
    "hash": "822f778737178fe76a6ff500c230e38a1f3004a1451c350514bba9d63e701910"
   }
  }
 },
 "nbformat": 4,
 "nbformat_minor": 2
}
