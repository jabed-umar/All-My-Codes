{
 "cells": [
  {
   "cell_type": "markdown",
   "metadata": {},
   "source": [
    "# Radioactivity Simulation by Monte Carlo"
   ]
  },
  {
   "cell_type": "code",
   "execution_count": 5,
   "metadata": {},
   "outputs": [
    {
     "data": {
      "image/png": "[encoded data removed]",
      "text/plain": [
       "<Figure size 432x288 with 1 Axes>"
      ]
     },
     "metadata": {
      "needs_background": "light"
     },
     "output_type": "display_data"
    },
    {
     "data": {
      "image/png": "[encoded data removed]",
      "text/plain": [
       "<Figure size 432x288 with 1 Axes>"
      ]
     },
     "metadata": {
      "needs_background": "light"
     },
     "output_type": "display_data"
    }
   ],
   "source": [
    "import math\n",
    "import matplotlib.pyplot as plt\n",
    "\n",
    "def lcg(seed=0):\n",
    "    a=1103515245\n",
    "    c=12345\n",
    "    m=32768\n",
    "    return ((a*seed+c)%m)/m\n",
    "    \n",
    "half_life = 20\n",
    "N = 10000\n",
    "l = math.log(2)/half_life\n",
    "\n",
    "t_now = 0\n",
    "dt = 5\n",
    "\n",
    "Ns = []\n",
    "times = []\n",
    "fate=0.1\n",
    "\n",
    "while t_now<half_life*3:\n",
    "    prob = l*dt\n",
    "    for i in range(N):\n",
    "        fate = lcg(fate)\n",
    "        if fate<prob: N -= 1\n",
    "    t_now += dt\n",
    "    Ns.append(N)\n",
    "    times.append(t_now)\n",
    "    \n",
    "plt.scatter(times,Ns)\n",
    "plt.show()\n",
    "import math\n",
    "import matplotlib.pyplot as plt\n",
    "\n",
    "def lcg(seed=0):\n",
    "    a=1103515245\n",
    "    c=12345\n",
    "    m=32768\n",
    "    return ((a*seed+c)%m)/m\n",
    "    \n",
    "half_life = 20\n",
    "N = 10000\n",
    "l = math.log(2)/half_life\n",
    "\n",
    "t_now = 0\n",
    "dt = 5\n",
    "\n",
    "Ns = []\n",
    "times = []\n",
    "fate=0.1\n",
    "\n",
    "while t_now<half_life*3:\n",
    "    prob = l*dt\n",
    "    for i in range(N):\n",
    "        fate = lcg(fate)\n",
    "        if fate<prob: N -= 1\n",
    "    t_now += dt\n",
    "    Ns.append(N)\n",
    "    times.append(t_now)\n",
    "    \n",
    "plt.scatter(times,Ns)\n",
    "plt.show()"
   ]
  },
  {
   "cell_type": "code",
   "execution_count": 6,
   "metadata": {},
   "outputs": [],
   "source": [
    "def My_random(seed,n,k):\n",
    "    \"\"\"This function is used to generate random number by LCG method\n",
    "    Args:\n",
    "        seed (integer): This is the seed for the random number generator\n",
    "        n (integer): Number of the of the random number \n",
    "        k (Either 0 or anything): Just to change the range of random numbers\n",
    "    Returns:\n",
    "        Floats : list of random numbers\n",
    "    \"\"\"\n",
    "    a = 1103515245 \n",
    "    c = 12345 \n",
    "    m = 32768\n",
    "    x = seed\n",
    "    rand=[]                # This is the list of random numbers\n",
    "    # 100 random numbers\n",
    "    if k==0:\n",
    "     for i in range(n):    \n",
    "    # LCG method for creating random number in the range [0,1]\n",
    "        x = (a * x + c) % m \n",
    "        x = x/m      # Normalizing the random number\n",
    "        rand.append(x)\n",
    "    else:\n",
    "     for i in range(n):    \n",
    "    # LCG method for creating random number in the range [-1,1] \n",
    "        x = 2*((a * x + c) % m)/m -1     # Normalizing the random number\n",
    "        rand.append(x)   \n",
    "    return rand"
   ]
  },
  {
   "cell_type": "code",
   "execution_count": 7,
   "metadata": {},
   "outputs": [
    {
     "ename": "AttributeError",
     "evalue": "'list' object has no attribute 'LCG'",
     "output_type": "error",
     "traceback": [
      "\u001b[1;31m---------------------------------------------------------------------------\u001b[0m",
      "\u001b[1;31mAttributeError\u001b[0m                            Traceback (most recent call last)",
      "\u001b[1;32mc:\\Users\\PC\\Desktop\\python\\classwork\\Radioactivity.ipynb Cell 4\u001b[0m in \u001b[0;36m<cell line: 19>\u001b[1;34m()\u001b[0m\n\u001b[0;32m     <a href='vscode-notebook-cell:/c%3A/Users/PC/Desktop/python/classwork/Radioactivity.ipynb#W5sZmlsZQ%3D%3D?line=19'>20</a>\u001b[0m prob_a \u001b[39m=\u001b[39m l_a\u001b[39m*\u001b[39mdt\n\u001b[0;32m     <a href='vscode-notebook-cell:/c%3A/Users/PC/Desktop/python/classwork/Radioactivity.ipynb#W5sZmlsZQ%3D%3D?line=20'>21</a>\u001b[0m \u001b[39mfor\u001b[39;00m i \u001b[39min\u001b[39;00m \u001b[39mrange\u001b[39m(Na):\n\u001b[1;32m---> <a href='vscode-notebook-cell:/c%3A/Users/PC/Desktop/python/classwork/Radioactivity.ipynb#W5sZmlsZQ%3D%3D?line=21'>22</a>\u001b[0m     fate \u001b[39m=\u001b[39m r\u001b[39m.\u001b[39;49mLCG()\n\u001b[0;32m     <a href='vscode-notebook-cell:/c%3A/Users/PC/Desktop/python/classwork/Radioactivity.ipynb#W5sZmlsZQ%3D%3D?line=22'>23</a>\u001b[0m     \u001b[39mif\u001b[39;00m fate\u001b[39m<\u001b[39mprob_a:\n\u001b[0;32m     <a href='vscode-notebook-cell:/c%3A/Users/PC/Desktop/python/classwork/Radioactivity.ipynb#W5sZmlsZQ%3D%3D?line=23'>24</a>\u001b[0m         Na \u001b[39m-\u001b[39m\u001b[39m=\u001b[39m \u001b[39m1\u001b[39m\n",
      "\u001b[1;31mAttributeError\u001b[0m: 'list' object has no attribute 'LCG'"
     ]
    }
   ],
   "source": [
    "import math\n",
    "import random as rd\n",
    "r = My_random(0.2,500,0)\n",
    "half_life_a = 20\n",
    "half_life_b = 40\n",
    "Na = 10000\n",
    "Nb = 0\n",
    "Nc = 0\n",
    "l_a = math.log(2)/half_life_a\n",
    "l_b = math.log(2)/half_life_b\n",
    "\n",
    "t_now = 0\n",
    "dt = 1\n",
    "Nas = []\n",
    "Nbs = []\n",
    "Ncs = []\n",
    "times = []\n",
    "\n",
    "while t_now<half_life*10:\n",
    "    prob_a = l_a*dt\n",
    "    for i in range(Na):\n",
    "        fate = r.LCG()\n",
    "        if fate<prob_a:\n",
    "            Na -= 1\n",
    "            Nb += 1\n",
    "\n",
    "    prob_b = l_b*dt\n",
    "    for i in range(Nb):\n",
    "        fate = r.LCG()\n",
    "        if fate<prob_b:\n",
    "            Nb -= 1\n",
    "            Nc += 1\n",
    "    \n",
    "    t_now += dt\n",
    "    Nas.append(Na)\n",
    "    Nbs.append(Nb)\n",
    "    Ncs.append(Nc)\n",
    "    times.append(t_now)\n",
    "\n",
    "plt.plot(times, Nas)\n",
    "plt.plot(times, Nbs)\n",
    "plt.plot(times, Ncs)"
   ]
  }
 ],
 "metadata": {
  "kernelspec": {
   "display_name": "Python 3.9.13 64-bit (microsoft store)",
   "language": "python",
   "name": "python3"
  },
  "language_info": {
   "codemirror_mode": {
    "name": "ipython",
    "version": 3
   },
   "file_extension": ".py",
   "mimetype": "text/x-python",
   "name": "python",
   "nbconvert_exporter": "python",
   "pygments_lexer": "ipython3",
   "version": "3.9.13"
  },
  "orig_nbformat": 4,
  "vscode": {
   "interpreter": {
    "hash": "8e284ee3255a07ad8bf76694974743c4c81cb57e7c969474d752d949b11d721e"
   }
  }
 },
 "nbformat": 4,
 "nbformat_minor": 2
}
