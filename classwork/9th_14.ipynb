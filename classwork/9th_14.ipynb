{
 "cells": [
  {
   "cell_type": "markdown",
   "metadata": {},
   "source": [
    "# Roots of non linear equations"
   ]
  },
  {
   "cell_type": "markdown",
   "metadata": {},
   "source": [
    "# 1. Lagurre's method"
   ]
  },
  {
   "cell_type": "code",
   "execution_count": 21,
   "metadata": {},
   "outputs": [
    {
     "name": "stdout",
     "output_type": "stream",
     "text": [
      "[ 1.  2. -1. -2.  0.]\n",
      "[  4.  -3. -14.   1.]\n",
      "[ 12.  -6. -14.]\n",
      "[24. -6.]\n"
     ]
    }
   ],
   "source": [
    "# deflation\n",
    "import numpy as np\n",
    "def f(x):\n",
    "    return x**4 - x**3 - 7*x**2 + x + 5\n",
    "def def1(poly0,b0):\n",
    "    poly1 = np.zeros(len(poly0))\n",
    "    poly1[0] = poly0[0]\n",
    "    for i in range(len(poly0)-1):\n",
    "        poly1[i+1] = poly1[i]*b0 + poly0[i+1]\n",
    "    return poly1\n",
    "print(def1([1,-1,-7,1,6],3))\n",
    "# differentiation\n",
    "def diff(poly0):\n",
    "    poly1 = np.zeros(len(poly0)-1)\n",
    "    n = len(poly0)-1\n",
    "    for i in range(len(poly0)-1):\n",
    "        poly1[i] = poly0[i]*(n-i)\n",
    "    return poly1\n",
    "print(diff([1,-1,-7,1,6]))\n",
    "# double differentiation\n",
    "def diff_1(poly1):\n",
    "    poly_2 = np.zeros(len(poly1)-1)\n",
    "    n = len(poly1)-1\n",
    "    for i in range(len(poly1)-1):\n",
    "        poly_2[i] = poly1[i]*(n-i)\n",
    "    return poly_2\n",
    "print(diff([ 4,  -3, -14,   1]))\n",
    "# triple differentiation\n",
    "def diff_1(poly2):\n",
    "    poly_3 = np.zeros(len(poly2)-1)\n",
    "    n = len(poly2)-1\n",
    "    for i in range(len(poly2)-1):\n",
    "        poly_3[i] = poly2[i]*(n-i)\n",
    "    return poly_3\n",
    "print(diff([ 12,  -6, -14]))"
   ]
  },
  {
   "cell_type": "code",
   "execution_count": 20,
   "metadata": {},
   "outputs": [
    {
     "name": "stdout",
     "output_type": "stream",
     "text": [
      "[24. -6.]\n"
     ]
    }
   ],
   "source": []
  }
 ],
 "metadata": {
  "kernelspec": {
   "display_name": "Python 3.9.13 64-bit (microsoft store)",
   "language": "python",
   "name": "python3"
  },
  "language_info": {
   "codemirror_mode": {
    "name": "ipython",
    "version": 3
   },
   "file_extension": ".py",
   "mimetype": "text/x-python",
   "name": "python",
   "nbconvert_exporter": "python",
   "pygments_lexer": "ipython3",
   "version": "3.9.13"
  },
  "orig_nbformat": 4,
  "vscode": {
   "interpreter": {
    "hash": "822f778737178fe76a6ff500c230e38a1f3004a1451c350514bba9d63e701910"
   }
  }
 },
 "nbformat": 4,
 "nbformat_minor": 2
}
