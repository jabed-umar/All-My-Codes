{
 "cells": [
  {
   "cell_type": "markdown",
   "metadata": {},
   "source": [
    "# Interpolation and Data Fitting"
   ]
  },
  {
   "cell_type": "code",
   "execution_count": 2,
   "metadata": {},
   "outputs": [
    {
     "data": {
      "text/plain": [
       "20.0"
      ]
     },
     "execution_count": 2,
     "metadata": {},
     "output_type": "execute_result"
    }
   ],
   "source": [
    "# Interpolation and data fitting\n",
    "def interpolation(x, y, x0):\n",
    "    \"\"\"Interpolate y(x) at x0 using Lagrange polynomial.\"\"\"\n",
    "    n = len(x)\n",
    "    y0 = 0.0\n",
    "    for i in range(n):\n",
    "        p = 1.0\n",
    "        for j in range(n):\n",
    "            if i != j:\n",
    "                p *= (x0 - x[j])/(x[i] - x[j])   # Lagrange polynomial\n",
    "        y0 += p*y[i]\n",
    "    return y0\n",
    "# Interpolation for first function \n",
    "x = [2,3,5,8,12]     # x values\n",
    "y  = [10,15,25,40,60] # y values\n",
    "interpolation(x, y, 4)"
   ]
  },
  {
   "cell_type": "code",
   "execution_count": 3,
   "metadata": {},
   "outputs": [
    {
     "data": {
      "text/plain": [
       "-126.0"
      ]
     },
     "execution_count": 3,
     "metadata": {},
     "output_type": "execute_result"
    }
   ],
   "source": [
    "# Interpolation for 2nd function\n",
    "x = [0,10,20,30]\n",
    "y = [-250,0,50,-100]\n",
    "interpolation(x, y, 4)\n"
   ]
  },
  {
   "cell_type": "code",
   "execution_count": 5,
   "metadata": {},
   "outputs": [
    {
     "data": {
      "text/plain": [
       "4.168"
      ]
     },
     "execution_count": 5,
     "metadata": {},
     "output_type": "execute_result"
    }
   ],
   "source": [
    "# Interpolation for 3rd function\n",
    "y = [2.8,3.2,4.5]\n",
    "x = [1951,1961,1971]\n",
    "interpolation(x, y, 1969) "
   ]
  },
  {
   "cell_type": "markdown",
   "metadata": {},
   "source": [
    "# Find equation of the polynomial that fits the data points by lagrange interpolation"
   ]
  },
  {
   "cell_type": "code",
   "execution_count": 1,
   "metadata": {},
   "outputs": [],
   "source": [
    "def lagarange(x,y):\n",
    "    n = len(x)\n",
    "    for i in range(n):\n",
    "        p = 1.0\n",
    "        for j in range(n):\n",
    "            if i != j:\n",
    "                p *= (lambda x : x - x[j])/(x[i] - x[j]) \n",
    "                y0 += p*y[i]\n",
    "    return y0\n",
    "                "
   ]
  }
 ],
 "metadata": {
  "kernelspec": {
   "display_name": "Python 3.9.13 64-bit (microsoft store)",
   "language": "python",
   "name": "python3"
  },
  "language_info": {
   "codemirror_mode": {
    "name": "ipython",
    "version": 3
   },
   "file_extension": ".py",
   "mimetype": "text/x-python",
   "name": "python",
   "nbconvert_exporter": "python",
   "pygments_lexer": "ipython3",
   "version": "3.9.13"
  },
  "orig_nbformat": 4,
  "vscode": {
   "interpreter": {
    "hash": "822f778737178fe76a6ff500c230e38a1f3004a1451c350514bba9d63e701910"
   }
  }
 },
 "nbformat": 4,
 "nbformat_minor": 2
}
