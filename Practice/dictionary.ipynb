{
 "cells": [
  {
   "cell_type": "markdown",
   "metadata": {},
   "source": [
    "# Dictionary and for loop"
   ]
  },
  {
   "cell_type": "code",
   "execution_count": 21,
   "metadata": {},
   "outputs": [
    {
     "name": "stdout",
     "output_type": "stream",
     "text": [
      "\n",
      "Key:\tage\n",
      "Value:\t20\n",
      "\n",
      "Key:\tname\n",
      "Value:\tAlbert Einstein\n",
      "\n",
      "Key:\tfirst\n",
      "Value:\tAlbert\n",
      "\n",
      "Key:\tlast\n",
      "Value:\tEinstein\n",
      "\n",
      "Key:\tcity\n",
      "Value:\tberlin\n"
     ]
    }
   ],
   "source": [
    "person_1= {\n",
    "    'age':'20',\n",
    "    'name':'Albert Einstein',\n",
    "    'first':'Albert',\n",
    "    'last':'Einstein',\n",
    "    'city':'berlin',\n",
    "}\n",
    "for key,value in person_1.items():\n",
    "    print(\"\\nKey:\\t\"+ key)\n",
    "    print(\"Value:\\t\"+value)"
   ]
  },
  {
   "cell_type": "code",
   "execution_count": 22,
   "metadata": {},
   "outputs": [
    {
     "name": "stdout",
     "output_type": "stream",
     "text": [
      "\n",
      "Key:\tage\n",
      "Value:\t21\n",
      "\n",
      "Key:\tname\n",
      "Value:\tWarner Hiesenberg\n",
      "\n",
      "Key:\tfirst\n",
      "Value:\tWarner\n",
      "\n",
      "Key:\tlast\n",
      "Value:\tHiesenberg\n",
      "\n",
      "Key:\tcity\n",
      "Value:\tberlin\n"
     ]
    }
   ],
   "source": [
    "person_2 = {\n",
    "    'age':'21',\n",
    "    'name':\"Warner Hiesenberg\",\n",
    "    'first':'Warner',\n",
    "    'last':'Hiesenberg',\n",
    "    'city':'berlin',\n",
    "}\n",
    "for key,value in person_2.items():\n",
    "    print(\"\\nKey:\\t\"+ key)\n",
    "    print(\"Value:\\t\"+value)"
   ]
  },
  {
   "cell_type": "markdown",
   "metadata": {},
   "source": [
    "# Dictionary in a list"
   ]
  },
  {
   "cell_type": "code",
   "execution_count": 23,
   "metadata": {},
   "outputs": [
    {
     "name": "stdout",
     "output_type": "stream",
     "text": [
      "[{'age': '20', 'name': 'Albert Einstein', 'first': 'Albert', 'last': 'Einstein', 'city': 'berlin'}, {'age': '21', 'name': 'Warner Hiesenberg', 'first': 'Warner', 'last': 'Hiesenberg', 'city': 'berlin'}]\n",
      "[{'age': '20', 'name': 'Albert Einstein', 'first': 'Albert', 'last': 'Einstein', 'city': 'berlin'}, {'age': '21', 'name': 'Warner Hiesenberg', 'first': 'Warner', 'last': 'Hiesenberg', 'city': 'berlin'}]\n"
     ]
    }
   ],
   "source": [
    "people=[person_1,person_2]\n",
    "for person in people:\n",
    "    print(people)\n",
    "#why it prints same thing twice ?"
   ]
  }
 ],
 "metadata": {
  "kernelspec": {
   "display_name": "Python 3.9.13 64-bit (windows store)",
   "language": "python",
   "name": "python3"
  },
  "language_info": {
   "codemirror_mode": {
    "name": "ipython",
    "version": 3
   },
   "file_extension": ".py",
   "mimetype": "text/x-python",
   "name": "python",
   "nbconvert_exporter": "python",
   "pygments_lexer": "ipython3",
   "version": "3.9.13"
  },
  "orig_nbformat": 4,
  "vscode": {
   "interpreter": {
    "hash": "822f778737178fe76a6ff500c230e38a1f3004a1451c350514bba9d63e701910"
   }
  }
 },
 "nbformat": 4,
 "nbformat_minor": 2
}
