{
 "cells": [
  {
   "cell_type": "markdown",
   "metadata": {},
   "source": [
    "# if_else statement\n"
   ]
  },
  {
   "cell_type": "code",
   "execution_count": 2,
   "metadata": {},
   "outputs": [
    {
     "name": "stdout",
     "output_type": "stream",
     "text": [
      "greetings\tarita\n",
      "greetings\tnoob\n",
      "greetings\tjabed\n",
      "greetings\tadmin\n",
      "greetings,good evening\tadmin\n",
      "greetings\tx\n"
     ]
    }
   ],
   "source": [
    "#5.8\n",
    "list=['arita','noob','jabed','admin','x']\n",
    "for name in list:\n",
    "    print(\"greetings\"+'\\t'+name)\n",
    "    if name =='admin':\n",
    "     print(\"greetings,good evening\"+'\\t'+name)  "
   ]
  },
  {
   "cell_type": "code",
   "execution_count": 3,
   "metadata": {},
   "outputs": [
    {
     "name": "stdout",
     "output_type": "stream",
     "text": [
      "['i']\n"
     ]
    }
   ],
   "source": [
    "#5.9\n",
    "list=[]\n",
    "if len(list)==1:\n",
    "    print(\"we need to find some users\")\n",
    "else:\n",
    "    list.append('i')\n",
    "print(list)\n"
   ]
  },
  {
   "cell_type": "code",
   "execution_count": null,
   "metadata": {},
   "outputs": [],
   "source": []
  }
 ],
 "metadata": {
  "kernelspec": {
   "display_name": "Python 3.9.13 64-bit (windows store)",
   "language": "python",
   "name": "python3"
  },
  "language_info": {
   "codemirror_mode": {
    "name": "ipython",
    "version": 3
   },
   "file_extension": ".py",
   "mimetype": "text/x-python",
   "name": "python",
   "nbconvert_exporter": "python",
   "pygments_lexer": "ipython3",
   "version": "3.9.13"
  },
  "orig_nbformat": 4,
  "vscode": {
   "interpreter": {
    "hash": "822f778737178fe76a6ff500c230e38a1f3004a1451c350514bba9d63e701910"
   }
  }
 },
 "nbformat": 4,
 "nbformat_minor": 2
}
