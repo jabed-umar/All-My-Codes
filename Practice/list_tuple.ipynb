{
 "cells": [
  {
   "cell_type": "markdown",
   "metadata": {},
   "source": [
    "# list with for loop"
   ]
  },
  {
   "cell_type": "code",
   "execution_count": 1,
   "metadata": {},
   "outputs": [
    {
     "name": "stdout",
     "output_type": "stream",
     "text": [
      "[1, 3, 5, 7, 9, 11]\n"
     ]
    },
    {
     "data": {
      "text/plain": [
       "36"
      ]
     },
     "execution_count": 1,
     "metadata": {},
     "output_type": "execute_result"
    }
   ],
   "source": [
    "n=input(\"enter a integer\")\n",
    "n=int(n)\n",
    "list =[]\n",
    "for i in range(1,n,2):\n",
    " #print (i)\n",
    " list.append(i)\n",
    "print(list)\n",
    "sum(list)\n"
   ]
  },
  {
   "cell_type": "code",
   "execution_count": 2,
   "metadata": {},
   "outputs": [
    {
     "data": {
      "text/plain": [
       "11"
      ]
     },
     "execution_count": 2,
     "metadata": {},
     "output_type": "execute_result"
    }
   ],
   "source": [
    "max(list)"
   ]
  },
  {
   "cell_type": "code",
   "execution_count": 3,
   "metadata": {},
   "outputs": [
    {
     "data": {
      "text/plain": [
       "1"
      ]
     },
     "execution_count": 3,
     "metadata": {},
     "output_type": "execute_result"
    }
   ],
   "source": [
    "min(list)"
   ]
  },
  {
   "cell_type": "code",
   "execution_count": 4,
   "metadata": {},
   "outputs": [
    {
     "name": "stdout",
     "output_type": "stream",
     "text": [
      "[1, 3, 5]\n"
     ]
    }
   ],
   "source": [
    "print(list[:3]) #it prints first 3 elements of the list without indexing"
   ]
  },
  {
   "cell_type": "code",
   "execution_count": 5,
   "metadata": {},
   "outputs": [
    {
     "name": "stdout",
     "output_type": "stream",
     "text": [
      "[1, 3]\n"
     ]
    }
   ],
   "source": [
    "print(list[0:2]) #it prints 0th and 1st element of list"
   ]
  },
  {
   "cell_type": "code",
   "execution_count": 6,
   "metadata": {},
   "outputs": [
    {
     "name": "stdout",
     "output_type": "stream",
     "text": [
      "[7, 9, 11]\n"
     ]
    }
   ],
   "source": [
    "print(list[-3:]) #it prints last 3 elements of the list without indexing"
   ]
  },
  {
   "cell_type": "markdown",
   "metadata": {},
   "source": [
    "# copying a list\n"
   ]
  },
  {
   "cell_type": "code",
   "execution_count": 7,
   "metadata": {},
   "outputs": [
    {
     "name": "stdout",
     "output_type": "stream",
     "text": [
      "my favorite foods are:\n",
      "['pizza', 'ice cream', 'mutton', 'rice']\n",
      "\n",
      "Myfriend's favorite foods are:\n",
      "['pizza', 'ice cream', 'mutton', 'rice']\n"
     ]
    }
   ],
   "source": [
    "my_foods=['pizza','ice cream','mutton','rice']\n",
    "friends_foods=my_foods[:] #this line copy the list\n",
    "print(\"my favorite foods are:\")\n",
    "print(my_foods)\n",
    "\n",
    "print(\"\\nMyfriend's favorite foods are:\")\n",
    "print(friends_foods)"
   ]
  },
  {
   "cell_type": "code",
   "execution_count": 8,
   "metadata": {},
   "outputs": [
    {
     "name": "stdout",
     "output_type": "stream",
     "text": [
      "my favorite foods are:\n",
      "['pizza', 'ice cream', 'mutton', 'rice', 'roti']\n",
      "\n",
      "Myfriend's favorite foods are:\n",
      "['pizza', 'ice cream', 'mutton', 'rice', 'fish']\n"
     ]
    }
   ],
   "source": [
    "my_foods=['pizza','ice cream','mutton','rice']\n",
    "friends_foods=my_foods[:] #this line copy the list\n",
    "my_foods.append('roti')\n",
    "friends_foods.append('fish') \n",
    "print(\"my favorite foods are:\")\n",
    "print(my_foods)\n",
    "\n",
    "print(\"\\nMyfriend's favorite foods are:\")\n",
    "print(friends_foods)"
   ]
  },
  {
   "cell_type": "code",
   "execution_count": 9,
   "metadata": {},
   "outputs": [
    {
     "name": "stdout",
     "output_type": "stream",
     "text": [
      "my favorite foods are:\n",
      "['pizza', 'ice cream', 'mutton', 'rice', 'roti', 'fish']\n",
      "\n",
      "Myfriend's favorite foods are:\n",
      "['pizza', 'ice cream', 'mutton', 'rice', 'roti', 'fish']\n"
     ]
    }
   ],
   "source": [
    "my_foods=['pizza','ice cream','mutton','rice']\n",
    "friends_foods=my_foods #this line copy the list\n",
    "my_foods.append('roti')\n",
    "friends_foods.append('fish') \n",
    "print(\"my favorite foods are:\")\n",
    "print(my_foods)\n",
    "\n",
    "print(\"\\nMyfriend's favorite foods are:\")\n",
    "print(friends_foods)\n",
    "\n",
    "##see the above example and this one. how much it's different to from the above one"
   ]
  },
  {
   "cell_type": "markdown",
   "metadata": {},
   "source": [
    "# Tuples"
   ]
  },
  {
   "cell_type": "code",
   "execution_count": 10,
   "metadata": {},
   "outputs": [
    {
     "name": "stdout",
     "output_type": "stream",
     "text": [
      "pizza\n",
      "ice cream\n",
      "mutton\n",
      "rice\n",
      "roti\n",
      "fish\n",
      "\n",
      "pizza\n",
      "ice cream\n",
      "mutton\n",
      "rice\n",
      "roti\n",
      "fish\n",
      "sprite\n"
     ]
    }
   ],
   "source": [
    "food=('pizza', 'ice cream', 'mutton', 'rice', 'roti', 'fish')\n",
    "for foods in food:\n",
    "    print(foods)\n",
    "#food.append('sprite') #it will throw an error since we can't modify the tuple\n",
    "#print(food)\n",
    "print()\n",
    "food=('pizza', 'ice cream', 'mutton', 'rice', 'roti', 'fish','sprite')\n",
    "for foods in food:\n",
    "    print(foods)"
   ]
  }
 ],
 "metadata": {
  "kernelspec": {
   "display_name": "Python 3.9.13 64-bit (windows store)",
   "language": "python",
   "name": "python3"
  },
  "language_info": {
   "codemirror_mode": {
    "name": "ipython",
    "version": 3
   },
   "file_extension": ".py",
   "mimetype": "text/x-python",
   "name": "python",
   "nbconvert_exporter": "python",
   "pygments_lexer": "ipython3",
   "version": "3.9.13"
  },
  "orig_nbformat": 4,
  "vscode": {
   "interpreter": {
    "hash": "822f778737178fe76a6ff500c230e38a1f3004a1451c350514bba9d63e701910"
   }
  }
 },
 "nbformat": 4,
 "nbformat_minor": 2
}
