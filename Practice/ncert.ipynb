{
 "cells": [
  {
   "cell_type": "markdown",
   "metadata": {},
   "source": [
    "# Flow Of Control , chapter-6"
   ]
  },
  {
   "cell_type": "markdown",
   "metadata": {},
   "source": [
    "# $3$. Write a program that prints minimum and maximum of five numbers entered by the user."
   ]
  },
  {
   "cell_type": "code",
   "execution_count": 16,
   "metadata": {},
   "outputs": [
    {
     "name": "stdout",
     "output_type": "stream",
     "text": [
      "The smallest number is 10\n",
      "The largest number is  25\n"
     ]
    }
   ],
   "source": [
    "#Program to input five numbers and print largest and smallest numbers\n",
    "smallest = 0\n",
    "largest = 0\n",
    "for a in range(0,5):\n",
    "    x = int(input(\"Enter the number: \"))\n",
    "    if a == 0:\n",
    "        smallest = largest = x\n",
    "    if(x < smallest):\n",
    "        smallest = x\n",
    "    if(x > largest):\n",
    "        largest = x\n",
    "print(\"The smallest number is\",smallest)\n",
    "print(\"The largest number is \",largest)\n",
    "    \n",
    "    "
   ]
  },
  {
   "cell_type": "markdown",
   "metadata": {},
   "source": [
    "# $6$ Write a program to find the sum of 1+ 1/8 + 1/27......$1/n^3$, where n is the number input by the user"
   ]
  },
  {
   "cell_type": "code",
   "execution_count": 18,
   "metadata": {},
   "outputs": [
    {
     "name": "stdout",
     "output_type": "stream",
     "text": [
      "1.125\n"
     ]
    }
   ],
   "source": [
    "sum = 0\n",
    "num = int(input(\"Enter the number: \"))\n",
    "for i in range(1,num+1):\n",
    "    sum = sum + 1/(i**3)\n",
    "print(sum)"
   ]
  },
  {
   "cell_type": "markdown",
   "metadata": {},
   "source": [
    "# $8$. Write a function that checks whether an input number is a palindrome or not. "
   ]
  },
  {
   "cell_type": "code",
   "execution_count": 27,
   "metadata": {},
   "outputs": [
    {
     "name": "stdout",
     "output_type": "stream",
     "text": [
      "12121 is a palindrome\n"
     ]
    },
    {
     "data": {
      "text/plain": [
       "True"
      ]
     },
     "execution_count": 27,
     "metadata": {},
     "output_type": "execute_result"
    }
   ],
   "source": [
    "# function to check palindrome\n",
    "str = input(\"Enter the string: \")\n",
    "def checkPalindrome(str):\n",
    "   \n",
    "    # Run loop from 0 to len/2\n",
    "    for i in range(0, len(str)//2):\n",
    "        if str[i] != str[len(str)-i-1]:\n",
    "            return 0     \n",
    "    # If the above loop doesn't return then it is palindrome\n",
    "    return True\n",
    "# Driver code\n",
    "if(checkPalindrome(str) == True):\n",
    "    print(str,\"is a palindrome\")\n",
    "else:\n",
    "    print(str, \"is not a palindrome\")\n",
    "checkPalindrome(str)"
   ]
  },
  {
   "cell_type": "markdown",
   "metadata": {},
   "source": [
    "# $9$. Pattern problem "
   ]
  },
  {
   "cell_type": "code",
   "execution_count": null,
   "metadata": {},
   "outputs": [],
   "source": []
  }
 ],
 "metadata": {
  "kernelspec": {
   "display_name": "Python 3.9.13 64-bit (microsoft store)",
   "language": "python",
   "name": "python3"
  },
  "language_info": {
   "codemirror_mode": {
    "name": "ipython",
    "version": 3
   },
   "file_extension": ".py",
   "mimetype": "text/x-python",
   "name": "python",
   "nbconvert_exporter": "python",
   "pygments_lexer": "ipython3",
   "version": "3.9.13"
  },
  "orig_nbformat": 4,
  "vscode": {
   "interpreter": {
    "hash": "822f778737178fe76a6ff500c230e38a1f3004a1451c350514bba9d63e701910"
   }
  }
 },
 "nbformat": 4,
 "nbformat_minor": 2
}
