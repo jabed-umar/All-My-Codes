{
 "cells": [
  {
   "cell_type": "markdown",
   "metadata": {},
   "source": [
    "# sum of first N even number by do-while loop"
   ]
  },
  {
   "cell_type": "code",
   "execution_count": 18,
   "metadata": {},
   "outputs": [
    {
     "ename": "KeyboardInterrupt",
     "evalue": "",
     "output_type": "error",
     "traceback": [
      "\u001b[1;31m---------------------------------------------------------------------------\u001b[0m",
      "\u001b[1;31mKeyboardInterrupt\u001b[0m                         Traceback (most recent call last)",
      "\u001b[1;32mc:\\Users\\PC\\Desktop\\python\\Practice\\while_loop.ipynb Cell 2\u001b[0m in \u001b[0;36m<cell line: 4>\u001b[1;34m()\u001b[0m\n\u001b[0;32m      <a href='vscode-notebook-cell:/c%3A/Users/PC/Desktop/python/Practice/while_loop.ipynb#W1sZmlsZQ%3D%3D?line=1'>2</a>\u001b[0m i\u001b[39m=\u001b[39m\u001b[39m1\u001b[39m\n\u001b[0;32m      <a href='vscode-notebook-cell:/c%3A/Users/PC/Desktop/python/Practice/while_loop.ipynb#W1sZmlsZQ%3D%3D?line=2'>3</a>\u001b[0m \u001b[39mlist\u001b[39m\u001b[39m=\u001b[39m[] \u001b[39m#creat an empty list\u001b[39;00m\n\u001b[1;32m----> <a href='vscode-notebook-cell:/c%3A/Users/PC/Desktop/python/Practice/while_loop.ipynb#W1sZmlsZQ%3D%3D?line=3'>4</a>\u001b[0m \u001b[39mwhile\u001b[39;00m i\u001b[39m<\u001b[39m\u001b[39m=\u001b[39mn:\n\u001b[0;32m      <a href='vscode-notebook-cell:/c%3A/Users/PC/Desktop/python/Practice/while_loop.ipynb#W1sZmlsZQ%3D%3D?line=4'>5</a>\u001b[0m     \u001b[39mif\u001b[39;00m i\u001b[39m%\u001b[39m\u001b[39m2\u001b[39m\u001b[39m==\u001b[39m\u001b[39m0\u001b[39m:\n\u001b[0;32m      <a href='vscode-notebook-cell:/c%3A/Users/PC/Desktop/python/Practice/while_loop.ipynb#W1sZmlsZQ%3D%3D?line=5'>6</a>\u001b[0m         \u001b[39mlist\u001b[39m\u001b[39m.\u001b[39mappend(i)\n",
      "\u001b[1;31mKeyboardInterrupt\u001b[0m: "
     ]
    }
   ],
   "source": [
    "n =int(input(\"enter a value of integer : \"))\n",
    "i=1\n",
    "list=[] #creat an empty list\n",
    "while i<=n:\n",
    "    if i%2==0:\n",
    "        list.append(i)\n",
    "        i=i+1\n",
    "print(list)"
   ]
  },
  {
   "cell_type": "markdown",
   "metadata": {},
   "source": [
    "# Factorial N by do-while loop"
   ]
  },
  {
   "cell_type": "code",
   "execution_count": 1,
   "metadata": {},
   "outputs": [],
   "source": [
    "#Guass Seidal Function\n",
    "def GS(A,b,e):\n",
    "    \"\"\"_summary_ : Solve a system of linear equation using Gauss Seidal method\n",
    "\n",
    "    Args:\n",
    "        A (2-array):  Square matrix of order n (n>=2) made up of coefficinets of the variables\n",
    "        b (1-array): Vector of order n made up of constants\n",
    "        e (precision): convergence criteria\n",
    "\n",
    "    Returns:\n",
    "       1_d array: Solution vector x\n",
    "    \"\"\"\n",
    "    n = len(A)\n",
    "    if A == 0: # From pivot function checking the diagoanl dominance\n",
    "      print(\"Guass-Seidal not possible\")\n",
    "      return 0\n",
    "    x = [[0] for y in range(n)]       # x stores values after new iteration\n",
    "    m = 300\n",
    "    y,sum = 0,0   \n",
    "    for v in range(m):\n",
    "     y = 0\n",
    "     for i in range(n):\n",
    "        sum = 0\n",
    "        for j in range(i): \n",
    "            sum += A[i][j]*x[j][0]   # if \n",
    "        for k in range(i+1,n):\n",
    "            sum+=A[i][k]*x[k][0]\n",
    "        c=(b[i][0]-sum)/A[i][i]\n",
    "        \n",
    "        if abs(c-x[i][0])<(10**(-e)):    #Precision condition\n",
    "            y+=1 \n",
    "        x[i][0]=c \n",
    "     if y == n:\n",
    "         break  #If all elements of X follow precision condition\n",
    "    print(\"Number of iterations:\", v+1,\"\\nSolution matrix X:\\n\") \n",
    "    print(x)"
   ]
  },
  {
   "cell_type": "code",
   "execution_count": 3,
   "metadata": {},
   "outputs": [],
   "source": [
    "#Jacobi and Guass-Seidal\n",
    "\n",
    "#Pivoting function for producing diagonally dominant matrix\n",
    "def pivot(A):\n",
    " c=0\n",
    " t=0\n",
    " for i in range(len(A)): #Row pivot\n",
    "     t=i                 #t stores largest element of a column\n",
    "     c=abs(A[i][i])\n",
    "     for j in range(len(A[0])):\n",
    "         if abs(A[i][j])>c:\n",
    "             c=abs(A[i][j])\n",
    "             t=j \n",
    "         \n",
    "     if t>i:\n",
    "         for v in range(len(A)):\n",
    "             A[v][i],A[v][t]=A[v][t],A[v][i] \n",
    "     elif t<i:\n",
    "         print(\"Matrix is not diagonally dominant \\n\")\n",
    "         return 0\n",
    "     \n",
    " return A\n",
    "     \n",
    "          \n",
    "\n",
    "#Jacobi function     \n",
    "def Jacobi(A,B,e):\n",
    "\n",
    "    if A==0:  #From pivot function\n",
    "      print(\"Jacobi not possible\")\n",
    "      return 0\n",
    "    \n",
    "    n=len(A)\n",
    "    C=[[1] for y in range(n)]       #C stores values after new iteration\n",
    "    D=[[0] for y in range(n)]       #D stores the values after last iteration\n",
    "    m=500000                        #m stores maximum number of iterations\n",
    "    sum=0\n",
    "    y=1\n",
    "    \n",
    "    for k in range(m):\n",
    "     for i in range(n):\n",
    "        for j in range(n):\n",
    "            if j!=i:\n",
    "             sum=sum+A[i][j]*C[j][0]\n",
    "            \n",
    "            if abs(D[j][0]-C[j][0]) > (10**(-e)):y=1  #Checking for precision\n",
    "                \n",
    "        if y==1:    \n",
    "         D[i][0]=(B[i][0]-sum)/A[i][i]\n",
    "         \n",
    "        else:break\n",
    "     \n",
    "        sum=0\n",
    "        \n",
    "     y=0    \n",
    "     \n",
    "     C,D=D,C\n",
    "    \n",
    "    print(\"Number of iterations:\",k+1,\"\\nSolution matrix X:\\n\")\n",
    "    for line in C:\n",
    "      print ('  '.join(map(str, line) ))         \n",
    "                \n",
    "\n",
    "\n",
    "    \n",
    "    \n",
    "#Guass Seidal Function\n",
    "\n",
    "def GS(A,B,e):\n",
    "    n=len(A)\n",
    "    \n",
    "    if A==0: #From pivot function\n",
    "      print(\"Guass-Seidal not possible\")\n",
    "      return 0\n",
    "    \n",
    "    X=[[0] for y in range(n)]       #X stores values after new iteration\n",
    "    m=300\n",
    "    y,sum=0,0\n",
    "    \n",
    "    for v in range(m):\n",
    "     y=0\n",
    "     for i in range(n):\n",
    "        sum=0\n",
    "        for j in range(i): \n",
    "            sum+=A[i][j]*X[j][0]\n",
    "        \n",
    "        for k in range(i+1,n):\n",
    "            sum+=A[i][k]*X[k][0]\n",
    "        \n",
    "        c=(B[i][0]-sum)/A[i][i]\n",
    "        \n",
    "        if abs(c-X[i][0])<(10**(-e)):y+=1 #Precision condition\n",
    "        X[i][0]=c\n",
    "        \n",
    "     \n",
    "     if y==n:break #If all elements of X follow precision condition\n",
    "  \n",
    "    \n",
    "    print(\"Number of iterations:\", v+1,\"\\nSolution matrix X:\\n\") \n",
    "    for line in X:\n",
    "       print ('  '.join(map(str, line) ))"
   ]
  },
  {
   "cell_type": "code",
   "execution_count": 8,
   "metadata": {},
   "outputs": [
    {
     "data": {
      "text/plain": [
       "[[10, 0, 1, 4, 4],\n",
       " [0, 4, 1, 0, 2],\n",
       " [3, 5, 13, 2, 1],\n",
       " [1, 3, 2, 11, 0],\n",
       " [1, 2, 0, 3, 7]]"
      ]
     },
     "execution_count": 8,
     "metadata": {},
     "output_type": "execute_result"
    }
   ],
   "source": [
    "A = [[4,0,4,10,1], [0,4,2,0,1], [2,5,1,3,13],[11,3,0,1,2],[3,2,7,1,0],]\n",
    "pivot(A)"
   ]
  },
  {
   "cell_type": "code",
   "execution_count": 4,
   "metadata": {},
   "outputs": [
    {
     "ename": "ZeroDivisionError",
     "evalue": "float division by zero",
     "output_type": "error",
     "traceback": [
      "\u001b[1;31m---------------------------------------------------------------------------\u001b[0m",
      "\u001b[1;31mZeroDivisionError\u001b[0m                         Traceback (most recent call last)",
      "\u001b[1;32mc:\\Users\\PC\\Desktop\\python\\Practice\\while_loop.ipynb Cell 6\u001b[0m in \u001b[0;36m<cell line: 3>\u001b[1;34m()\u001b[0m\n\u001b[0;32m      <a href='vscode-notebook-cell:/c%3A/Users/PC/Desktop/python/Practice/while_loop.ipynb#X12sZmlsZQ%3D%3D?line=0'>1</a>\u001b[0m b \u001b[39m=\u001b[39m [[\u001b[39m20\u001b[39m],[\u001b[39m15\u001b[39m],[\u001b[39m92\u001b[39m],[\u001b[39m51\u001b[39m],[\u001b[39m15\u001b[39m]]\n\u001b[0;32m      <a href='vscode-notebook-cell:/c%3A/Users/PC/Desktop/python/Practice/while_loop.ipynb#X12sZmlsZQ%3D%3D?line=1'>2</a>\u001b[0m A \u001b[39m=\u001b[39m [[\u001b[39m4\u001b[39m,\u001b[39m0\u001b[39m,\u001b[39m4\u001b[39m,\u001b[39m10\u001b[39m,\u001b[39m1\u001b[39m], [\u001b[39m0\u001b[39m,\u001b[39m4\u001b[39m,\u001b[39m2\u001b[39m,\u001b[39m0\u001b[39m,\u001b[39m1\u001b[39m], [\u001b[39m2\u001b[39m,\u001b[39m5\u001b[39m,\u001b[39m1\u001b[39m,\u001b[39m3\u001b[39m,\u001b[39m13\u001b[39m],[\u001b[39m11\u001b[39m,\u001b[39m3\u001b[39m,\u001b[39m0\u001b[39m,\u001b[39m1\u001b[39m,\u001b[39m2\u001b[39m],[\u001b[39m3\u001b[39m,\u001b[39m2\u001b[39m,\u001b[39m7\u001b[39m,\u001b[39m1\u001b[39m,\u001b[39m0\u001b[39m],]\n\u001b[1;32m----> <a href='vscode-notebook-cell:/c%3A/Users/PC/Desktop/python/Practice/while_loop.ipynb#X12sZmlsZQ%3D%3D?line=2'>3</a>\u001b[0m GS(A,b,\u001b[39m6\u001b[39;49m)\n",
      "\u001b[1;32mc:\\Users\\PC\\Desktop\\python\\Practice\\while_loop.ipynb Cell 6\u001b[0m in \u001b[0;36mGS\u001b[1;34m(A, B, e)\u001b[0m\n\u001b[0;32m     <a href='vscode-notebook-cell:/c%3A/Users/PC/Desktop/python/Practice/while_loop.ipynb#X12sZmlsZQ%3D%3D?line=86'>87</a>\u001b[0m \u001b[39mfor\u001b[39;00m k \u001b[39min\u001b[39;00m \u001b[39mrange\u001b[39m(i\u001b[39m+\u001b[39m\u001b[39m1\u001b[39m,n):\n\u001b[0;32m     <a href='vscode-notebook-cell:/c%3A/Users/PC/Desktop/python/Practice/while_loop.ipynb#X12sZmlsZQ%3D%3D?line=87'>88</a>\u001b[0m     \u001b[39msum\u001b[39m\u001b[39m+\u001b[39m\u001b[39m=\u001b[39mA[i][k]\u001b[39m*\u001b[39mX[k][\u001b[39m0\u001b[39m]\n\u001b[1;32m---> <a href='vscode-notebook-cell:/c%3A/Users/PC/Desktop/python/Practice/while_loop.ipynb#X12sZmlsZQ%3D%3D?line=89'>90</a>\u001b[0m c\u001b[39m=\u001b[39m(B[i][\u001b[39m0\u001b[39;49m]\u001b[39m-\u001b[39;49m\u001b[39msum\u001b[39;49m)\u001b[39m/\u001b[39;49mA[i][i]\n\u001b[0;32m     <a href='vscode-notebook-cell:/c%3A/Users/PC/Desktop/python/Practice/while_loop.ipynb#X12sZmlsZQ%3D%3D?line=91'>92</a>\u001b[0m \u001b[39mif\u001b[39;00m \u001b[39mabs\u001b[39m(c\u001b[39m-\u001b[39mX[i][\u001b[39m0\u001b[39m])\u001b[39m<\u001b[39m(\u001b[39m10\u001b[39m\u001b[39m*\u001b[39m\u001b[39m*\u001b[39m(\u001b[39m-\u001b[39me)):y\u001b[39m+\u001b[39m\u001b[39m=\u001b[39m\u001b[39m1\u001b[39m \u001b[39m#Precision condition\u001b[39;00m\n\u001b[0;32m     <a href='vscode-notebook-cell:/c%3A/Users/PC/Desktop/python/Practice/while_loop.ipynb#X12sZmlsZQ%3D%3D?line=92'>93</a>\u001b[0m X[i][\u001b[39m0\u001b[39m]\u001b[39m=\u001b[39mc\n",
      "\u001b[1;31mZeroDivisionError\u001b[0m: float division by zero"
     ]
    }
   ],
   "source": [
    "b = [[20],[15],[92],[51],[15]]\n",
    "A = [[4,0,4,10,1], [0,4,2,0,1], [2,5,1,3,13],[11,3,0,1,2],[3,2,7,1,0],]\n",
    "GS(A,b,6)"
   ]
  },
  {
   "cell_type": "markdown",
   "metadata": {},
   "source": [
    "# Basic while loop\n"
   ]
  },
  {
   "cell_type": "code",
   "execution_count": 5,
   "metadata": {},
   "outputs": [],
   "source": [
    "def Gauss_Seidel(A,b,e):\n",
    "    \"\"\"_summary_ : Solve a system of linear equation using Gauss Seidal method\n",
    "\n",
    "    Args:\n",
    "        A (2-array):  Square matrix of order n (n>=2) made up of coefficinets of the variables\n",
    "        b (1-array): Vector of order n made up of constants\n",
    "        e (precision): convergence criteria\n",
    "\n",
    "    Returns:\n",
    "       1_d array: Solution vector x\n",
    "    \"\"\"\n",
    "    n = len(A)\n",
    "    x = [[0] for y in range(n)]       # x stores values after new iteration\n",
    "    m = 300\n",
    "    y,sum = 0,0   \n",
    "    for v in range(m):\n",
    "     y = 0\n",
    "     for i in range(n):\n",
    "        sum = 0\n",
    "        for j in range(n): \n",
    "            if j!= i:\n",
    "             sum += A[i][j]*x[j][0] \n",
    "        c=(b[i][0]-sum)/A[i][i]\n",
    "        if abs(c-x[i][0]) < (10**(-e)):    #Precision condition\n",
    "            y += 1 \n",
    "        x[i][0] = c \n",
    "     if y == n:   # If all elements of x follow precision condition\n",
    "         break  \n",
    "    print(\"Number of iterations:\", v+1,\"\\nSolution matrix X:\\n\") \n",
    "    print(x)"
   ]
  },
  {
   "cell_type": "code",
   "execution_count": 7,
   "metadata": {},
   "outputs": [
    {
     "name": "stdout",
     "output_type": "stream",
     "text": [
      "Number of iterations: 16 \n",
      "Solution matrix X:\n",
      "\n",
      "[[0.9999997530614102], [0.9999997892247294], [0.9999999100460266], [0.9999998509593768], [0.9999998727858708], [0.9999999457079743]]\n"
     ]
    }
   ],
   "source": [
    "b = [[2],[1],[2],[2],[1],[2]]\n",
    "A = [ [4, -1, 0, -1, 0, 0], [-1, 4, -1, 0, -1, 0], [0, -1, 4, 0, 0, -1], [-1, 0, 0, 4, -1, 0], [0, -1, 0, -1, 4, -1],[0, 0, -1, 0, -1, 4]]\n",
    "Gauss_Seidel(A,b,6)"
   ]
  },
  {
   "cell_type": "code",
   "execution_count": 9,
   "metadata": {},
   "outputs": [
    {
     "name": "stdout",
     "output_type": "stream",
     "text": [
      "1\n",
      "2\n",
      "3\n",
      "4\n"
     ]
    }
   ],
   "source": [
    "# 1.\n",
    "n = int(input(\"enter a number : \"))\n",
    "i=1\n",
    "while i<=10:\n",
    "    if i==5:\n",
    "        break\n",
    "    print(i)\n",
    "    i+=1\n"
   ]
  },
  {
   "cell_type": "code",
   "execution_count": 16,
   "metadata": {},
   "outputs": [
    {
     "name": "stdout",
     "output_type": "stream",
     "text": [
      "Please, enter a valid number!\n"
     ]
    }
   ],
   "source": [
    "# 2.\n",
    "age=int(input(\"enter your age: \"))\n",
    "while age:\n",
    "        if age in range(0,4):\n",
    "            print(f\"ok, for {age} years old people the ticket is free\")\n",
    "            break\n",
    "        elif age in range(3, 13):\n",
    "            print(f\"The ticket for {age} years old people is $10\")\n",
    "            break\n",
    "        elif age > 12:\n",
    "            print(f\"The ticket for {age} is $15\")\n",
    "            break\n",
    "        else:\n",
    "            print(\"Please, enter a valid number!\")\n",
    "            break\n",
    "   "
   ]
  },
  {
   "cell_type": "code",
   "execution_count": null,
   "metadata": {},
   "outputs": [],
   "source": []
  }
 ],
 "metadata": {
  "kernelspec": {
   "display_name": "Python 3.9.13 64-bit (windows store)",
   "language": "python",
   "name": "python3"
  },
  "language_info": {
   "codemirror_mode": {
    "name": "ipython",
    "version": 3
   },
   "file_extension": ".py",
   "mimetype": "text/x-python",
   "name": "python",
   "nbconvert_exporter": "python",
   "pygments_lexer": "ipython3",
   "version": "3.9.13"
  },
  "orig_nbformat": 4,
  "vscode": {
   "interpreter": {
    "hash": "822f778737178fe76a6ff500c230e38a1f3004a1451c350514bba9d63e701910"
   }
  }
 },
 "nbformat": 4,
 "nbformat_minor": 2
}
