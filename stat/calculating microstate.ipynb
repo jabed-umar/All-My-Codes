{
 "cells": [
  {
   "cell_type": "code",
   "execution_count": 45,
   "metadata": {},
   "outputs": [],
   "source": [
    "# define factorial function\n",
    "def factorial(n):\n",
    "    if n == 0:\n",
    "        return 1\n",
    "    else:\n",
    "        return n * factorial(n-1)"
   ]
  },
  {
   "cell_type": "markdown",
   "metadata": {},
   "source": [
    "# Relation between the microstate, no of particles and no of states for the Bose-Einstein distribution"
   ]
  },
  {
   "cell_type": "code",
   "execution_count": 46,
   "metadata": {},
   "outputs": [],
   "source": [
    "# defining the microstate function\n",
    "def f_Bose(n,g):\n",
    "    x = factorial(g + n -1)/(factorial(g-1)*factorial(n))\n",
    "    return x"
   ]
  },
  {
   "cell_type": "code",
   "execution_count": 47,
   "metadata": {},
   "outputs": [
    {
     "name": "stdout",
     "output_type": "stream",
     "text": [
      "The total no of microstates for the given (n,g) is 6.0\n",
      "The total no of microstates for the given (n,g) is 20301.0\n",
      "The total no of microstates for the given (n,g) is 80601.0\n",
      "The total no of microstates for the given (n,g) is 180901.0\n"
     ]
    }
   ],
   "source": [
    "# cheking for different values of n with same g\n",
    "print(\"The total no of microstates for the given (n,g) is\",f_Bose(2,3))\n",
    "print(\"The total no of microstates for the given (n,g) is\",f_Bose(200,3))\n",
    "print(\"The total no of microstates for the given (n,g) is\",f_Bose(400,3))\n",
    "print(\"The total no of microstates for the given (n,g) is\",f_Bose(600,3))"
   ]
  },
  {
   "cell_type": "code",
   "execution_count": 48,
   "metadata": {},
   "outputs": [
    {
     "name": "stdout",
     "output_type": "stream",
     "text": [
      "The total no of microstates for the given (n,g) is 1353400.0\n",
      "The total no of microstates for the given (n,g) is 10746800.0\n",
      "The total no of microstates for the given (n,g) is 36180200.0\n"
     ]
    }
   ],
   "source": [
    "# cheking for different values of g with same n\n",
    "print(\"The total no of microstates for the given (n,g) is\",f_Bose(3,200))\n",
    "print(\"The total no of microstates for the given (n,g) is\",f_Bose(3,400))\n",
    "print(\"The total no of microstates for the given (n,g) is\",f_Bose(3,600))\n"
   ]
  },
  {
   "cell_type": "code",
   "execution_count": 49,
   "metadata": {},
   "outputs": [
    {
     "name": "stdout",
     "output_type": "stream",
     "text": [
      "The total no of microstates for the given (n,g) is 10.0\n",
      "The total no of microstates for the given (n,g) is 4.527425732805164e+58\n",
      "The total no of microstates for the given (n,g) is 6.755397099809713e+178\n"
     ]
    }
   ],
   "source": [
    "# cheking for same (n,g) values\n",
    "print(\"The total no of microstates for the given (n,g) is\",f_Bose(3,3))\n",
    "print(\"The total no of microstates for the given (n,g) is\",f_Bose(100,100))\n",
    "print(\"The total no of microstates for the given (n,g) is\",f_Bose(300,300))"
   ]
  },
  {
   "cell_type": "markdown",
   "metadata": {},
   "source": [
    "# Relation between the microstate, no of particles and no of states for the Fermi-Dirac distribution"
   ]
  },
  {
   "cell_type": "code",
   "execution_count": 50,
   "metadata": {},
   "outputs": [],
   "source": [
    "# defining the microstate function\n",
    "def f_Fermi(n,g):\n",
    "    if g > n:\n",
    "     x = factorial(g)/(factorial(g-n)*factorial(n))\n",
    "    elif g == n:\n",
    "        return \"The total no of microstates for the given (n,g) is 1\"\n",
    "    else:\n",
    "        return \"g should be greater than n\"\n",
    "    return \"The total no of microstates for the given (n,g) is\", x"
   ]
  },
  {
   "cell_type": "code",
   "execution_count": 51,
   "metadata": {},
   "outputs": [
    {
     "name": "stdout",
     "output_type": "stream",
     "text": [
      "('The total no of microstates for the given (n,g) is', 3.0)\n",
      "('The total no of microstates for the given (n,g) is', 435.0)\n",
      "('The total no of microstates for the given (n,g) is', 27405.0)\n",
      "('The total no of microstates for the given (n,g) is', 5852925.0)\n",
      "('The total no of microstates for the given (n,g) is', 86493225.0)\n"
     ]
    }
   ],
   "source": [
    "# cheking for different values of n with same g\n",
    "print(f_Fermi(2,3))\n",
    "print(f_Fermi(2,30))\n",
    "print(f_Fermi(4,30))\n",
    "print(f_Fermi(8,30))\n",
    "print(f_Fermi(12,30))"
   ]
  },
  {
   "cell_type": "markdown",
   "metadata": {},
   "source": [
    "# SVD "
   ]
  },
  {
   "cell_type": "code",
   "execution_count": null,
   "metadata": {},
   "outputs": [],
   "source": [
    "import matplotlib.pyplot as plt\n",
    "import numpy as np\n",
    "from matplotlib.image import imread\n",
    "import numpy.linalg as LA\n",
    "\n",
    "\n",
    "def my_SVD(A):\n",
    "    e_val, e_vec = LA.eig(A.T@A)\n",
    "    print(f\"{e_val = }\")\n",
    "    print(f\"{e_vec = }\")\n",
    "    V = e_vec\n",
    "    S = (e_val*e_val)**0.25\n",
    "    U = A@(e_vec/S)\n",
    "    return U, S, V.T\n",
    "\n",
    "from numpy.linalg import svd as SVD\n",
    "\n",
    "# Defining function to show image\n",
    "def show_image(array, title = None, dpi = 100, save = False):\n",
    "    fig = plt.figure(dpi = dpi, figsize = (0.3*array.shape[1]/dpi, 0.3*array.shape[0]/dpi))\n",
    "    plt.axis(False)\n",
    "    if title:\n",
    "        plt.title(title)\n",
    "    if len(array.shape) == 2:\n",
    "        plt.imshow(array, cmap='gray')\n",
    "        if save!=False: plt.imsave(save, array, cmap='gray')\n",
    "    else:\n",
    "        plt.imshow(array)\n",
    "        if save!=False: plt.imsave(save, array)\n",
    "    return fig\n",
    "\n",
    "def comp_percent(original_shape, terms):\n",
    "    original_size = original_shape[0]*original_shape[1]\n",
    "    compressed_size = (sum(original_shape)+1)*terms\n",
    "    return compressed_size/1024, (compressed_size)/original_size*100\n",
    "\n",
    "def get_rms_error(A, A_):\n",
    "    error = ((A-A_)**2).sum()\n",
    "    return ((error/(A.shape[0]*A.shape[1]))**0.5)/2.56\n",
    "\n",
    "def get_image(terms, U, S, V, A):\n",
    "    A_ = U[:, :terms]@S[:terms, :terms]@V[:terms, :]\n",
    "    A_ = A_.astype(\"int\")\n",
    "\n",
    "    size, comp = comp_percent(A.shape, terms)\n",
    "    rms_error = get_rms_error(A, A_)\n",
    "\n",
    "    text = f\"{terms = }, size = {int(size)} KB ({round(comp, 1 if comp>1 else 2)}%)\"\n",
    "    return A_, comp, rms_error, text\n",
    "\n",
    "def reduce(terms, A):\n",
    "    U, S, V = SVD(A)\n",
    "    S = np.diag(S)\n",
    "    return U[:, :terms]@S[:terms, :terms]@V[:terms, :]\n",
    "\n",
    "def scale(A):\n",
    "    u = A.max()\n",
    "    l = A.min()\n",
    "    if u == l or (u==255 and l==0): return A\n",
    "    return ((A-l)/(u-l)*255).astype(np.uint8)\n",
    "\n",
    "class GrayscaleImageSVD:\n",
    "    def __init__(self, location=None, A=None):\n",
    "        self.location = location\n",
    "        self.A = imread(location)\n",
    "        if len(self.A.shape)!=2: raise ValueError(\"Image is not grayscale\")\n",
    "        self.U, S, self.V = SVD(self.A)\n",
    "        self.S = np.diag(S)\n",
    "        \n",
    "    def reduce(self, terms, type = np.uint8):\n",
    "        A_ = scale(self.U[:, :terms]@self.S[:terms, :terms]@self.V[:terms, :]).astype(np.uint8)\n",
    "        ratio = comp_percent(self.A.shape, terms)[1]\n",
    "        error = get_rms_error(self.A, A_)\n",
    "        return A_.astype(type), ratio, error\n",
    "    \n",
    "    def display(self, title=None, dpi=100):\n",
    "        plt.figure(dpi = dpi, figsize = (0.3*self.A.shape[1]/dpi, 0.3*self.A.shape[0]/dpi))\n",
    "        plt.axis(False)\n",
    "        if title: plt.title(title)\n",
    "        plt.imshow(self.A, cmap='gray')\n",
    "    \n",
    "    def save(self, loc):\n",
    "        plt.imsave(loc, self.A, cmap='gray')\n",
    "        \n",
    "\n",
    "class ColourImageSVD:\n",
    "    def __init__(self, location):\n",
    "        self.location = location\n",
    "        self.A = imread(location)\n",
    "        if len(self.A.shape)!=3: raise ValueError(\"Image is not colour\")\n",
    "        self.R = self.A[:, :, 0]\n",
    "        self.G = self.A[:, :, 1]\n",
    "        self.B = self.A[:, :, 2]\n",
    "        \n",
    "        print(\"SVD for Red Channel\")        \n",
    "        U, S, V = SVD(self.R)\n",
    "        S = np.diag(S)\n",
    "        self.RU, self.RS, self.RV = U, S, V\n",
    "        \n",
    "        print(\"SVD for Green Channel\")\n",
    "        U, S, V = SVD(self.G)\n",
    "        S = np.diag(S)\n",
    "        self.GU, self.GS, self.GV = U, S, V\n",
    "        \n",
    "        print(\"SVD for Blue Channel\")\n",
    "        U, S, V = SVD(self.B)\n",
    "        S = np.diag(S)\n",
    "        self.BU, self.BS, self.BV = U, S, V\n",
    "\n",
    "    def reduce(self, terms, type = np.uint8):\n",
    "        R_ = scale(self.RU[:, :terms]@self.RS[:terms, :terms]@self.RV[:terms, :]).astype(np.uint8)\n",
    "        ratio = comp_percent(self.R.shape, terms)[1]\n",
    "        errorR = get_rms_error(self.R, R_)\n",
    "\n",
    "        G_ = scale(self.GU[:, :terms]@self.GS[:terms, :terms]@self.GV[:terms, :]).astype(np.uint8)\n",
    "        errorG = get_rms_error(self.G, G_)\n",
    "\n",
    "        B_ = scale(self.BU[:, :terms]@self.BS[:terms, :terms]@self.BV[:terms, :]).astype(np.uint8)\n",
    "        errorB = get_rms_error(self.B, B_)\n",
    "\n",
    "        error = (errorR+errorG+errorB)/3\n",
    "        \n",
    "        return np.dstack((R_, G_, B_)).astype(type), ratio, error\n",
    "    \n",
    "    def display(self, title=None, dpi=100):\n",
    "        plt.figure(dpi = dpi, figsize = (0.3*self.A.shape[1]/dpi, 0.3*self.A.shape[0]/dpi))\n",
    "        plt.axis(False)\n",
    "        if title: plt.title(title)\n",
    "        plt.imshow(self.A)\n",
    "    \n",
    "    def save(self, loc):\n",
    "        plt.imsave(loc, self.A)\n",
    "\n",
    "\n",
    "if __name__ == \"__main__\":\n",
    "    A = np.array(\n",
    "        [[1, 2, 3, 4],\n",
    "        [2, 4, 6, 8],\n",
    "        [5, 10, 15, 20],\n",
    "        [10, 20, 30, 40]]\n",
    "    )\n",
    "    \n",
    "    U, S, V = my_SVD(A)\n",
    "    \n",
    "    print(f\"{U = }\")\n",
    "    print(f\"{S = }\")\n",
    "    print(f\"{V = }\")\n",
    "    \n",
    "    S = np.diag(S)\n",
    "    print(U@S@V)"
   ]
  }
 ],
 "metadata": {
  "kernelspec": {
   "display_name": "Python 3.9.13 64-bit (microsoft store)",
   "language": "python",
   "name": "python3"
  },
  "language_info": {
   "codemirror_mode": {
    "name": "ipython",
    "version": 3
   },
   "file_extension": ".py",
   "mimetype": "text/x-python",
   "name": "python",
   "nbconvert_exporter": "python",
   "pygments_lexer": "ipython3",
   "version": "3.9.13"
  },
  "orig_nbformat": 4,
  "vscode": {
   "interpreter": {
    "hash": "8e284ee3255a07ad8bf76694974743c4c81cb57e7c969474d752d949b11d721e"
   }
  }
 },
 "nbformat": 4,
 "nbformat_minor": 2
}
